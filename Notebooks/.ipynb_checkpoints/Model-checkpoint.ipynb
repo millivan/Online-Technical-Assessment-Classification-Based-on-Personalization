{
 "cells": [
  {
   "cell_type": "code",
   "execution_count": 1,
   "metadata": {},
   "outputs": [],
   "source": [
    "import pickle\n",
    "import re\n",
    "\n",
    "import matplotlib.pyplot as plt\n",
    "import numpy as np\n",
    "import pandas as pd\n",
    "from sklearn.ensemble import GradientBoostingClassifier, RandomForestClassifier\n",
    "from sklearn.linear_model import LogisticRegression\n",
    "from sklearn.metrics import (ConfusionMatrixDisplay, accuracy_score,\n",
    "                             classification_report, confusion_matrix,\n",
    "                             hamming_loss, roc_auc_score)\n",
    "from sklearn.model_selection import cross_validate, train_test_split\n",
    "from sklearn.multioutput import MultiOutputClassifier\n",
    "from sklearn.naive_bayes import GaussianNB\n",
    "from sklearn.pipeline import Pipeline\n",
    "from sklearn.svm import SVC\n",
    "from xgboost import XGBClassifier"
   ]
  },
  {
   "cell_type": "code",
   "execution_count": 2,
   "metadata": {},
   "outputs": [],
   "source": [
    "df = pd.read_csv(\"../Data/cleaned_data.csv\")\n",
    "df = df.iloc[:, 1:]"
   ]
  },
  {
   "cell_type": "code",
   "execution_count": 3,
   "metadata": {},
   "outputs": [],
   "source": [
    "targets = [\n",
    "  \"6. Online Instructional Strategies/Assessment _Written assignment_\",\n",
    "  \"6. Online Instructional Strategies/Assessment _Case Study_\",\n",
    "  \"6. Online Instructional Strategies/Assessment _Real Time Online Exam_\",\n",
    "  \"6. Online Instructional Strategies/Assessment _Individual Project/Assignment_\",\n",
    "  \"6. Online Instructional Strategies/Assessment _Group Project/Assignment_\",\n",
    "  \"6. Online Instructional Strategies/Assessment _Online Quiz/Test - MCQ_\",\n",
    "  \"6. Online Instructional Strategies/Assessment _Online Quiz/Test - Essay_\",\n",
    "  \"6. Online Instructional Strategies/Assessment _Online Quiz/Test - Open Book_\",\n",
    "  \"6. Online Instructional Strategies/Assessment _Peer Review Assessment Live Presentation_\",\n",
    "  \"6. Online Instructional Strategies/Assessment _Recorded Presentation_\",\n",
    "  \"6. Online Instructional Strategies/Assessment _Portfolio_\"\n",
    "]"
   ]
  },
  {
   "cell_type": "code",
   "execution_count": 4,
   "metadata": {},
   "outputs": [],
   "source": [
    "regex = re.compile(r\"\\[|\\]|<\", re.IGNORECASE)\n",
    "df.columns = [regex.sub(\"_\", col) if any(x in str(col) for x in set(('[', ']', '<'))) else col for col in df.columns.values]"
   ]
  },
  {
   "cell_type": "markdown",
   "metadata": {},
   "source": [
    "### Removing Columns\n",
    "Due to the inconsistent formatting and assumed irrelevance of the columns, \"Institutions\", \"Country\", \"Faculty\", \"Department\", \"Please share any comments or suggestions...\", and \"For technical or hands-on subject, ...\" is removed before model training."
   ]
  },
  {
   "cell_type": "code",
   "execution_count": 5,
   "metadata": {},
   "outputs": [
    {
     "data": {
      "text/html": [
       "<div>\n",
       "<style scoped>\n",
       "    .dataframe tbody tr th:only-of-type {\n",
       "        vertical-align: middle;\n",
       "    }\n",
       "\n",
       "    .dataframe tbody tr th {\n",
       "        vertical-align: top;\n",
       "    }\n",
       "\n",
       "    .dataframe thead th {\n",
       "        text-align: right;\n",
       "    }\n",
       "</style>\n",
       "<table border=\"1\" class=\"dataframe\">\n",
       "  <thead>\n",
       "    <tr style=\"text-align: right;\">\n",
       "      <th></th>\n",
       "      <th>Gender</th>\n",
       "      <th>Level of Study</th>\n",
       "      <th>Field of study</th>\n",
       "      <th>Household Income</th>\n",
       "      <th>Learning Objects _Slide presentation_</th>\n",
       "      <th>Learning Objects _Book_</th>\n",
       "      <th>Learning Objects _Lecture Note_</th>\n",
       "      <th>Learning Objects _Educational game_</th>\n",
       "      <th>Learning Objects _Video_</th>\n",
       "      <th>Learning Objects _Audio-recorded lecture_</th>\n",
       "      <th>...</th>\n",
       "      <th>problem based learning</th>\n",
       "      <th>recorded</th>\n",
       "      <th>case study</th>\n",
       "      <th>demo</th>\n",
       "      <th>simulation</th>\n",
       "      <th>guided</th>\n",
       "      <th>forum</th>\n",
       "      <th>game</th>\n",
       "      <th>journaling</th>\n",
       "      <th>writing</th>\n",
       "    </tr>\n",
       "  </thead>\n",
       "  <tbody>\n",
       "    <tr>\n",
       "      <th>0</th>\n",
       "      <td>0</td>\n",
       "      <td>2</td>\n",
       "      <td>0</td>\n",
       "      <td>2</td>\n",
       "      <td>3</td>\n",
       "      <td>3</td>\n",
       "      <td>3</td>\n",
       "      <td>3</td>\n",
       "      <td>3</td>\n",
       "      <td>3</td>\n",
       "      <td>...</td>\n",
       "      <td>0</td>\n",
       "      <td>0</td>\n",
       "      <td>0</td>\n",
       "      <td>0</td>\n",
       "      <td>0</td>\n",
       "      <td>0</td>\n",
       "      <td>0</td>\n",
       "      <td>0</td>\n",
       "      <td>0</td>\n",
       "      <td>0</td>\n",
       "    </tr>\n",
       "    <tr>\n",
       "      <th>1</th>\n",
       "      <td>0</td>\n",
       "      <td>2</td>\n",
       "      <td>0</td>\n",
       "      <td>2</td>\n",
       "      <td>4</td>\n",
       "      <td>4</td>\n",
       "      <td>4</td>\n",
       "      <td>4</td>\n",
       "      <td>3</td>\n",
       "      <td>2</td>\n",
       "      <td>...</td>\n",
       "      <td>0</td>\n",
       "      <td>0</td>\n",
       "      <td>0</td>\n",
       "      <td>0</td>\n",
       "      <td>0</td>\n",
       "      <td>0</td>\n",
       "      <td>0</td>\n",
       "      <td>0</td>\n",
       "      <td>0</td>\n",
       "      <td>0</td>\n",
       "    </tr>\n",
       "    <tr>\n",
       "      <th>2</th>\n",
       "      <td>1</td>\n",
       "      <td>1</td>\n",
       "      <td>0</td>\n",
       "      <td>0</td>\n",
       "      <td>3</td>\n",
       "      <td>3</td>\n",
       "      <td>4</td>\n",
       "      <td>4</td>\n",
       "      <td>3</td>\n",
       "      <td>4</td>\n",
       "      <td>...</td>\n",
       "      <td>0</td>\n",
       "      <td>0</td>\n",
       "      <td>0</td>\n",
       "      <td>0</td>\n",
       "      <td>0</td>\n",
       "      <td>0</td>\n",
       "      <td>0</td>\n",
       "      <td>0</td>\n",
       "      <td>0</td>\n",
       "      <td>0</td>\n",
       "    </tr>\n",
       "    <tr>\n",
       "      <th>3</th>\n",
       "      <td>1</td>\n",
       "      <td>1</td>\n",
       "      <td>0</td>\n",
       "      <td>0</td>\n",
       "      <td>3</td>\n",
       "      <td>1</td>\n",
       "      <td>4</td>\n",
       "      <td>2</td>\n",
       "      <td>3</td>\n",
       "      <td>3</td>\n",
       "      <td>...</td>\n",
       "      <td>0</td>\n",
       "      <td>0</td>\n",
       "      <td>0</td>\n",
       "      <td>0</td>\n",
       "      <td>0</td>\n",
       "      <td>0</td>\n",
       "      <td>0</td>\n",
       "      <td>0</td>\n",
       "      <td>0</td>\n",
       "      <td>0</td>\n",
       "    </tr>\n",
       "    <tr>\n",
       "      <th>4</th>\n",
       "      <td>0</td>\n",
       "      <td>1</td>\n",
       "      <td>0</td>\n",
       "      <td>1</td>\n",
       "      <td>4</td>\n",
       "      <td>1</td>\n",
       "      <td>4</td>\n",
       "      <td>3</td>\n",
       "      <td>3</td>\n",
       "      <td>3</td>\n",
       "      <td>...</td>\n",
       "      <td>0</td>\n",
       "      <td>1</td>\n",
       "      <td>0</td>\n",
       "      <td>1</td>\n",
       "      <td>0</td>\n",
       "      <td>0</td>\n",
       "      <td>0</td>\n",
       "      <td>0</td>\n",
       "      <td>0</td>\n",
       "      <td>0</td>\n",
       "    </tr>\n",
       "    <tr>\n",
       "      <th>...</th>\n",
       "      <td>...</td>\n",
       "      <td>...</td>\n",
       "      <td>...</td>\n",
       "      <td>...</td>\n",
       "      <td>...</td>\n",
       "      <td>...</td>\n",
       "      <td>...</td>\n",
       "      <td>...</td>\n",
       "      <td>...</td>\n",
       "      <td>...</td>\n",
       "      <td>...</td>\n",
       "      <td>...</td>\n",
       "      <td>...</td>\n",
       "      <td>...</td>\n",
       "      <td>...</td>\n",
       "      <td>...</td>\n",
       "      <td>...</td>\n",
       "      <td>...</td>\n",
       "      <td>...</td>\n",
       "      <td>...</td>\n",
       "      <td>...</td>\n",
       "    </tr>\n",
       "    <tr>\n",
       "      <th>309</th>\n",
       "      <td>0</td>\n",
       "      <td>1</td>\n",
       "      <td>0</td>\n",
       "      <td>2</td>\n",
       "      <td>3</td>\n",
       "      <td>1</td>\n",
       "      <td>3</td>\n",
       "      <td>4</td>\n",
       "      <td>4</td>\n",
       "      <td>3</td>\n",
       "      <td>...</td>\n",
       "      <td>0</td>\n",
       "      <td>0</td>\n",
       "      <td>0</td>\n",
       "      <td>0</td>\n",
       "      <td>0</td>\n",
       "      <td>0</td>\n",
       "      <td>0</td>\n",
       "      <td>0</td>\n",
       "      <td>0</td>\n",
       "      <td>0</td>\n",
       "    </tr>\n",
       "    <tr>\n",
       "      <th>310</th>\n",
       "      <td>0</td>\n",
       "      <td>1</td>\n",
       "      <td>0</td>\n",
       "      <td>1</td>\n",
       "      <td>3</td>\n",
       "      <td>3</td>\n",
       "      <td>4</td>\n",
       "      <td>3</td>\n",
       "      <td>3</td>\n",
       "      <td>2</td>\n",
       "      <td>...</td>\n",
       "      <td>0</td>\n",
       "      <td>0</td>\n",
       "      <td>0</td>\n",
       "      <td>1</td>\n",
       "      <td>0</td>\n",
       "      <td>0</td>\n",
       "      <td>0</td>\n",
       "      <td>0</td>\n",
       "      <td>0</td>\n",
       "      <td>0</td>\n",
       "    </tr>\n",
       "    <tr>\n",
       "      <th>311</th>\n",
       "      <td>1</td>\n",
       "      <td>1</td>\n",
       "      <td>0</td>\n",
       "      <td>2</td>\n",
       "      <td>2</td>\n",
       "      <td>3</td>\n",
       "      <td>2</td>\n",
       "      <td>3</td>\n",
       "      <td>3</td>\n",
       "      <td>3</td>\n",
       "      <td>...</td>\n",
       "      <td>0</td>\n",
       "      <td>0</td>\n",
       "      <td>0</td>\n",
       "      <td>0</td>\n",
       "      <td>0</td>\n",
       "      <td>0</td>\n",
       "      <td>0</td>\n",
       "      <td>0</td>\n",
       "      <td>0</td>\n",
       "      <td>0</td>\n",
       "    </tr>\n",
       "    <tr>\n",
       "      <th>312</th>\n",
       "      <td>0</td>\n",
       "      <td>1</td>\n",
       "      <td>0</td>\n",
       "      <td>1</td>\n",
       "      <td>3</td>\n",
       "      <td>3</td>\n",
       "      <td>4</td>\n",
       "      <td>3</td>\n",
       "      <td>4</td>\n",
       "      <td>4</td>\n",
       "      <td>...</td>\n",
       "      <td>0</td>\n",
       "      <td>0</td>\n",
       "      <td>0</td>\n",
       "      <td>0</td>\n",
       "      <td>0</td>\n",
       "      <td>0</td>\n",
       "      <td>0</td>\n",
       "      <td>0</td>\n",
       "      <td>0</td>\n",
       "      <td>0</td>\n",
       "    </tr>\n",
       "    <tr>\n",
       "      <th>313</th>\n",
       "      <td>0</td>\n",
       "      <td>1</td>\n",
       "      <td>0</td>\n",
       "      <td>2</td>\n",
       "      <td>3</td>\n",
       "      <td>3</td>\n",
       "      <td>3</td>\n",
       "      <td>2</td>\n",
       "      <td>4</td>\n",
       "      <td>4</td>\n",
       "      <td>...</td>\n",
       "      <td>0</td>\n",
       "      <td>0</td>\n",
       "      <td>0</td>\n",
       "      <td>0</td>\n",
       "      <td>0</td>\n",
       "      <td>0</td>\n",
       "      <td>0</td>\n",
       "      <td>0</td>\n",
       "      <td>0</td>\n",
       "      <td>0</td>\n",
       "    </tr>\n",
       "  </tbody>\n",
       "</table>\n",
       "<p>314 rows × 176 columns</p>\n",
       "</div>"
      ],
      "text/plain": [
       "     Gender  Level of Study  Field of study  Household Income  \\\n",
       "0         0               2               0                 2   \n",
       "1         0               2               0                 2   \n",
       "2         1               1               0                 0   \n",
       "3         1               1               0                 0   \n",
       "4         0               1               0                 1   \n",
       "..      ...             ...             ...               ...   \n",
       "309       0               1               0                 2   \n",
       "310       0               1               0                 1   \n",
       "311       1               1               0                 2   \n",
       "312       0               1               0                 1   \n",
       "313       0               1               0                 2   \n",
       "\n",
       "     Learning Objects _Slide presentation_  Learning Objects _Book_  \\\n",
       "0                                        3                        3   \n",
       "1                                        4                        4   \n",
       "2                                        3                        3   \n",
       "3                                        3                        1   \n",
       "4                                        4                        1   \n",
       "..                                     ...                      ...   \n",
       "309                                      3                        1   \n",
       "310                                      3                        3   \n",
       "311                                      2                        3   \n",
       "312                                      3                        3   \n",
       "313                                      3                        3   \n",
       "\n",
       "     Learning Objects _Lecture Note_  Learning Objects _Educational game_  \\\n",
       "0                                  3                                    3   \n",
       "1                                  4                                    4   \n",
       "2                                  4                                    4   \n",
       "3                                  4                                    2   \n",
       "4                                  4                                    3   \n",
       "..                               ...                                  ...   \n",
       "309                                3                                    4   \n",
       "310                                4                                    3   \n",
       "311                                2                                    3   \n",
       "312                                4                                    3   \n",
       "313                                3                                    2   \n",
       "\n",
       "     Learning Objects _Video_  Learning Objects _Audio-recorded lecture_  ...  \\\n",
       "0                           3                                          3  ...   \n",
       "1                           3                                          2  ...   \n",
       "2                           3                                          4  ...   \n",
       "3                           3                                          3  ...   \n",
       "4                           3                                          3  ...   \n",
       "..                        ...                                        ...  ...   \n",
       "309                         4                                          3  ...   \n",
       "310                         3                                          2  ...   \n",
       "311                         3                                          3  ...   \n",
       "312                         4                                          4  ...   \n",
       "313                         4                                          4  ...   \n",
       "\n",
       "     problem based learning  recorded  case study  demo  simulation  guided  \\\n",
       "0                         0         0           0     0           0       0   \n",
       "1                         0         0           0     0           0       0   \n",
       "2                         0         0           0     0           0       0   \n",
       "3                         0         0           0     0           0       0   \n",
       "4                         0         1           0     1           0       0   \n",
       "..                      ...       ...         ...   ...         ...     ...   \n",
       "309                       0         0           0     0           0       0   \n",
       "310                       0         0           0     1           0       0   \n",
       "311                       0         0           0     0           0       0   \n",
       "312                       0         0           0     0           0       0   \n",
       "313                       0         0           0     0           0       0   \n",
       "\n",
       "     forum  game  journaling  writing  \n",
       "0        0     0           0        0  \n",
       "1        0     0           0        0  \n",
       "2        0     0           0        0  \n",
       "3        0     0           0        0  \n",
       "4        0     0           0        0  \n",
       "..     ...   ...         ...      ...  \n",
       "309      0     0           0        0  \n",
       "310      0     0           0        0  \n",
       "311      0     0           0        0  \n",
       "312      0     0           0        0  \n",
       "313      0     0           0        0  \n",
       "\n",
       "[314 rows x 176 columns]"
      ]
     },
     "execution_count": 5,
     "metadata": {},
     "output_type": "execute_result"
    }
   ],
   "source": [
    "cols_to_drop = [\"Institutions\", \"Country\", \"Faculty\", \"Department\", \"Please share any comments or suggestions related to this issue. Thank You\"]\n",
    "df.drop(df.columns[59], inplace=True, axis=1)\n",
    "df.drop(cols_to_drop, inplace=True, axis=1)\n",
    "df"
   ]
  },
  {
   "cell_type": "markdown",
   "metadata": {},
   "source": [
    "# Inital Run of Models"
   ]
  },
  {
   "cell_type": "markdown",
   "metadata": {},
   "source": [
    "### Train Test Split"
   ]
  },
  {
   "cell_type": "code",
   "execution_count": 6,
   "metadata": {},
   "outputs": [
    {
     "name": "stdout",
     "output_type": "stream",
     "text": [
      "X.shape: (314, 165)\n",
      "y.shape: (314, 11)\n"
     ]
    }
   ],
   "source": [
    "X = df.loc[:, ~df.columns.isin(targets)]\n",
    "y = df[targets]\n",
    "print(f\"X.shape: {X.shape}\")\n",
    "print(f\"y.shape: {y.shape}\")"
   ]
  },
  {
   "cell_type": "code",
   "execution_count": 7,
   "metadata": {},
   "outputs": [],
   "source": [
    "X_train, X_test, y_train, y_test = train_test_split(X, y, test_size=0.2, random_state=2024)"
   ]
  },
  {
   "cell_type": "markdown",
   "metadata": {},
   "source": [
    "### Model Training"
   ]
  },
  {
   "cell_type": "code",
   "execution_count": 8,
   "metadata": {},
   "outputs": [],
   "source": [
    "def GBC(X_train, y_train, X_test, learning_rate):\n",
    "  gbc = GradientBoostingClassifier(learning_rate=learning_rate, random_state=2024)\n",
    "  model = MultiOutputClassifier(gbc).fit(X_train, y_train)\n",
    "  prediction = model.predict(X_test)\n",
    "  return model, prediction"
   ]
  },
  {
   "cell_type": "code",
   "execution_count": 9,
   "metadata": {},
   "outputs": [],
   "source": [
    "def GNB(X_train, y_train, X_test):\n",
    "  gnb = GaussianNB()\n",
    "  model = MultiOutputClassifier(gnb).fit(X_train, y_train)\n",
    "  prediction = model.predict(X_test)\n",
    "  return model, prediction"
   ]
  },
  {
   "cell_type": "code",
   "execution_count": 10,
   "metadata": {},
   "outputs": [],
   "source": [
    "def SVM(X_train, y_train, X_test):\n",
    "  svc = SVC(random_state=2024)\n",
    "  model = MultiOutputClassifier(svc).fit(X_train, y_train)\n",
    "  prediction = model.predict(X_test)\n",
    "  return model, prediction"
   ]
  },
  {
   "cell_type": "code",
   "execution_count": 11,
   "metadata": {},
   "outputs": [],
   "source": [
    "def RFC(X_train, y_train, X_test):\n",
    "  rfc = RandomForestClassifier(random_state=2024)\n",
    "  model = MultiOutputClassifier(rfc).fit(X_train, y_train)\n",
    "  prediction = model.predict(X_test)\n",
    "  return model, prediction"
   ]
  },
  {
   "cell_type": "code",
   "execution_count": 12,
   "metadata": {},
   "outputs": [],
   "source": [
    "def LR(X_train, y_train, X_test):\n",
    "  lr = LogisticRegression(max_iter=1000, random_state=2024)\n",
    "  model = MultiOutputClassifier(lr).fit(X_train, y_train)\n",
    "  prediction = model.predict(X_test)\n",
    "  return model, prediction"
   ]
  },
  {
   "cell_type": "code",
   "execution_count": 13,
   "metadata": {},
   "outputs": [],
   "source": [
    "def XGB(X_train, y_train, X_test):\n",
    "  classifier = MultiOutputClassifier(XGBClassifier(random_state=2024))\n",
    "  clf = Pipeline([(\"classify\", classifier)])\n",
    "  clf.fit(X_train, y_train)\n",
    "  prediction = clf.predict(X_test)\n",
    "  return clf, prediction"
   ]
  },
  {
   "cell_type": "code",
   "execution_count": 14,
   "metadata": {},
   "outputs": [],
   "source": [
    "gbc1, gbc_pred1 = GBC(X_train, y_train, X_test, 0.1)\n",
    "gnb1, gnb_pred1 = GNB(X_train, y_train, X_test)\n",
    "svm1, svm_pred1 = SVM(X_train, y_train, X_test)\n",
    "rfc1, rfc_pred1 = RFC(X_train, y_train, X_test)\n",
    "lr1, lr_pred1 = LR(X_train, y_train, X_test)\n",
    "xgb1, xgb_pred1 = XGB(X_train, y_train, X_test)"
   ]
  },
  {
   "cell_type": "markdown",
   "metadata": {},
   "source": [
    "### Model Evaluation"
   ]
  },
  {
   "cell_type": "code",
   "execution_count": 15,
   "metadata": {},
   "outputs": [
    {
     "name": "stdout",
     "output_type": "stream",
     "text": [
      "Hamming Loss of GBC1: 0.24386724386724387\n",
      "Hamming Loss of GNB1: 0.6060606060606061\n",
      "Hamming Loss of SVM1: 0.23953823953823955\n",
      "Hamming Loss of RFC1: 0.2222222222222222\n",
      "Hamming Loss of LR1: 0.2741702741702742\n",
      "Hamming Loss of XGB1: 0.24963924963924963\n"
     ]
    }
   ],
   "source": [
    "print(\"Hamming Loss of GBC1:\", hamming_loss(y_test, gbc_pred1))\n",
    "print(\"Hamming Loss of GNB1:\", hamming_loss(y_test, gnb_pred1))\n",
    "print(\"Hamming Loss of SVM1:\", hamming_loss(y_test, svm_pred1))\n",
    "print(\"Hamming Loss of RFC1:\", hamming_loss(y_test, rfc_pred1))\n",
    "print(\"Hamming Loss of LR1:\", hamming_loss(y_test, lr_pred1))\n",
    "print(\"Hamming Loss of XGB1:\", hamming_loss(y_test, xgb_pred1))"
   ]
  },
  {
   "cell_type": "code",
   "execution_count": 16,
   "metadata": {},
   "outputs": [
    {
     "name": "stdout",
     "output_type": "stream",
     "text": [
      "ROC AUC of GBC1: 0.6729229965017972\n",
      "ROC AUC of GNB1: 0.5003038891401707\n",
      "ROC AUC of SVM1: 0.6330507336446574\n",
      "ROC AUC of RFC1: 0.6915870686420313\n",
      "ROC AUC of LR1: 0.6723753238171976\n",
      "ROC AUC of XGB1: 0.6636351600999548\n"
     ]
    }
   ],
   "source": [
    "print(\"ROC AUC of GBC1:\", roc_auc_score(y_test, gbc_pred1))\n",
    "print(\"ROC AUC of GNB1:\", roc_auc_score(y_test, gnb_pred1))\n",
    "print(\"ROC AUC of SVM1:\", roc_auc_score(y_test, svm_pred1))\n",
    "print(\"ROC AUC of RFC1:\", roc_auc_score(y_test, rfc_pred1))\n",
    "print(\"ROC AUC of LR1:\", roc_auc_score(y_test, lr_pred1))\n",
    "print(\"ROC AUC of XGB1:\", roc_auc_score(y_test, xgb_pred1))\n"
   ]
  },
  {
   "cell_type": "code",
   "execution_count": 17,
   "metadata": {},
   "outputs": [
    {
     "name": "stdout",
     "output_type": "stream",
     "text": [
      "              precision    recall  f1-score   support\n",
      "\n",
      "           0       0.80      0.75      0.78        44\n",
      "           1       0.74      0.91      0.82        32\n",
      "           2       0.67      0.73      0.70        33\n",
      "           3       0.81      0.86      0.83        49\n",
      "           4       0.79      0.82      0.80        45\n",
      "           5       0.89      0.93      0.91        54\n",
      "           6       0.78      0.72      0.75        39\n",
      "           7       0.95      0.93      0.94        57\n",
      "           8       0.78      0.88      0.83        43\n",
      "           9       0.85      0.92      0.88        50\n",
      "          10       0.74      0.80      0.77        35\n",
      "\n",
      "   micro avg       0.81      0.85      0.83       481\n",
      "   macro avg       0.80      0.84      0.82       481\n",
      "weighted avg       0.81      0.85      0.83       481\n",
      " samples avg       0.76      0.79      0.75       481\n",
      "\n"
     ]
    },
    {
     "name": "stderr",
     "output_type": "stream",
     "text": [
      "c:\\Users\\limzh\\anaconda3\\lib\\site-packages\\sklearn\\metrics\\_classification.py:1344: UndefinedMetricWarning: Precision and F-score are ill-defined and being set to 0.0 in samples with no predicted labels. Use `zero_division` parameter to control this behavior.\n",
      "  _warn_prf(average, modifier, msg_start, len(result))\n",
      "c:\\Users\\limzh\\anaconda3\\lib\\site-packages\\sklearn\\metrics\\_classification.py:1344: UndefinedMetricWarning: Recall and F-score are ill-defined and being set to 0.0 in samples with no true labels. Use `zero_division` parameter to control this behavior.\n",
      "  _warn_prf(average, modifier, msg_start, len(result))\n"
     ]
    }
   ],
   "source": [
    "print(classification_report(y_test, gbc_pred1))"
   ]
  },
  {
   "cell_type": "code",
   "execution_count": 18,
   "metadata": {},
   "outputs": [
    {
     "name": "stdout",
     "output_type": "stream",
     "text": [
      "              precision    recall  f1-score   support\n",
      "\n",
      "           0       0.82      0.91      0.86        44\n",
      "           1       0.43      0.09      0.15        32\n",
      "           2       0.20      0.03      0.05        33\n",
      "           3       0.62      0.10      0.18        49\n",
      "           4       0.57      0.09      0.15        45\n",
      "           5       0.82      0.17      0.28        54\n",
      "           6       0.75      0.08      0.14        39\n",
      "           7       0.78      0.12      0.21        57\n",
      "           8       0.00      0.00      0.00        43\n",
      "           9       0.75      0.12      0.21        50\n",
      "          10       0.70      0.91      0.79        35\n",
      "\n",
      "   micro avg       0.69      0.23      0.34       481\n",
      "   macro avg       0.58      0.24      0.27       481\n",
      "weighted avg       0.61      0.23      0.27       481\n",
      " samples avg       0.68      0.24      0.30       481\n",
      "\n"
     ]
    },
    {
     "name": "stderr",
     "output_type": "stream",
     "text": [
      "c:\\Users\\limzh\\anaconda3\\lib\\site-packages\\sklearn\\metrics\\_classification.py:1344: UndefinedMetricWarning: Precision and F-score are ill-defined and being set to 0.0 in samples with no predicted labels. Use `zero_division` parameter to control this behavior.\n",
      "  _warn_prf(average, modifier, msg_start, len(result))\n",
      "c:\\Users\\limzh\\anaconda3\\lib\\site-packages\\sklearn\\metrics\\_classification.py:1344: UndefinedMetricWarning: Recall and F-score are ill-defined and being set to 0.0 in samples with no true labels. Use `zero_division` parameter to control this behavior.\n",
      "  _warn_prf(average, modifier, msg_start, len(result))\n"
     ]
    }
   ],
   "source": [
    "print(classification_report(y_test, gnb_pred1))"
   ]
  },
  {
   "cell_type": "code",
   "execution_count": 19,
   "metadata": {},
   "outputs": [
    {
     "name": "stdout",
     "output_type": "stream",
     "text": [
      "              precision    recall  f1-score   support\n",
      "\n",
      "           0       0.88      0.82      0.85        44\n",
      "           1       0.74      0.88      0.80        32\n",
      "           2       0.65      0.79      0.71        33\n",
      "           3       0.79      0.90      0.84        49\n",
      "           4       0.73      0.82      0.77        45\n",
      "           5       0.87      0.98      0.92        54\n",
      "           6       0.79      0.77      0.78        39\n",
      "           7       0.90      1.00      0.95        57\n",
      "           8       0.79      0.88      0.84        43\n",
      "           9       0.81      0.94      0.87        50\n",
      "          10       0.72      0.80      0.76        35\n",
      "\n",
      "   micro avg       0.80      0.88      0.84       481\n",
      "   macro avg       0.79      0.87      0.83       481\n",
      "weighted avg       0.80      0.88      0.84       481\n",
      " samples avg       0.76      0.84      0.76       481\n",
      "\n"
     ]
    },
    {
     "name": "stderr",
     "output_type": "stream",
     "text": [
      "c:\\Users\\limzh\\anaconda3\\lib\\site-packages\\sklearn\\metrics\\_classification.py:1344: UndefinedMetricWarning: Recall and F-score are ill-defined and being set to 0.0 in samples with no true labels. Use `zero_division` parameter to control this behavior.\n",
      "  _warn_prf(average, modifier, msg_start, len(result))\n"
     ]
    }
   ],
   "source": [
    "print(classification_report(y_test, svm_pred1))"
   ]
  },
  {
   "cell_type": "code",
   "execution_count": 20,
   "metadata": {},
   "outputs": [
    {
     "name": "stdout",
     "output_type": "stream",
     "text": [
      "              precision    recall  f1-score   support\n",
      "\n",
      "           0       0.89      0.73      0.80        44\n",
      "           1       0.74      0.88      0.80        32\n",
      "           2       0.69      0.82      0.75        33\n",
      "           3       0.83      0.88      0.85        49\n",
      "           4       0.77      0.82      0.80        45\n",
      "           5       0.90      0.96      0.93        54\n",
      "           6       0.81      0.74      0.77        39\n",
      "           7       0.93      0.95      0.94        57\n",
      "           8       0.84      0.88      0.86        43\n",
      "           9       0.84      0.94      0.89        50\n",
      "          10       0.74      0.83      0.78        35\n",
      "\n",
      "   micro avg       0.82      0.86      0.84       481\n",
      "   macro avg       0.82      0.86      0.83       481\n",
      "weighted avg       0.83      0.86      0.84       481\n",
      " samples avg       0.77      0.81      0.76       481\n",
      "\n"
     ]
    },
    {
     "name": "stderr",
     "output_type": "stream",
     "text": [
      "c:\\Users\\limzh\\anaconda3\\lib\\site-packages\\sklearn\\metrics\\_classification.py:1344: UndefinedMetricWarning: Precision and F-score are ill-defined and being set to 0.0 in samples with no predicted labels. Use `zero_division` parameter to control this behavior.\n",
      "  _warn_prf(average, modifier, msg_start, len(result))\n",
      "c:\\Users\\limzh\\anaconda3\\lib\\site-packages\\sklearn\\metrics\\_classification.py:1344: UndefinedMetricWarning: Recall and F-score are ill-defined and being set to 0.0 in samples with no true labels. Use `zero_division` parameter to control this behavior.\n",
      "  _warn_prf(average, modifier, msg_start, len(result))\n"
     ]
    }
   ],
   "source": [
    "print(classification_report(y_test, rfc_pred1))"
   ]
  },
  {
   "cell_type": "code",
   "execution_count": 21,
   "metadata": {},
   "outputs": [
    {
     "name": "stdout",
     "output_type": "stream",
     "text": [
      "              precision    recall  f1-score   support\n",
      "\n",
      "           0       0.79      0.70      0.75        44\n",
      "           1       0.72      0.91      0.81        32\n",
      "           2       0.67      0.67      0.67        33\n",
      "           3       0.85      0.84      0.85        49\n",
      "           4       0.77      0.76      0.76        45\n",
      "           5       0.93      0.94      0.94        54\n",
      "           6       0.75      0.77      0.76        39\n",
      "           7       0.94      0.88      0.91        57\n",
      "           8       0.83      0.70      0.76        43\n",
      "           9       0.81      0.68      0.74        50\n",
      "          10       0.76      0.71      0.74        35\n",
      "\n",
      "   micro avg       0.81      0.78      0.80       481\n",
      "   macro avg       0.80      0.78      0.79       481\n",
      "weighted avg       0.82      0.78      0.80       481\n",
      " samples avg       0.77      0.72      0.71       481\n",
      "\n"
     ]
    },
    {
     "name": "stderr",
     "output_type": "stream",
     "text": [
      "c:\\Users\\limzh\\anaconda3\\lib\\site-packages\\sklearn\\metrics\\_classification.py:1344: UndefinedMetricWarning: Recall and F-score are ill-defined and being set to 0.0 in samples with no true labels. Use `zero_division` parameter to control this behavior.\n",
      "  _warn_prf(average, modifier, msg_start, len(result))\n"
     ]
    }
   ],
   "source": [
    "print(classification_report(y_test, lr_pred1))"
   ]
  },
  {
   "cell_type": "code",
   "execution_count": 22,
   "metadata": {},
   "outputs": [
    {
     "name": "stdout",
     "output_type": "stream",
     "text": [
      "              precision    recall  f1-score   support\n",
      "\n",
      "           0       0.82      0.73      0.77        44\n",
      "           1       0.74      0.91      0.82        32\n",
      "           2       0.65      0.67      0.66        33\n",
      "           3       0.80      0.92      0.86        49\n",
      "           4       0.74      0.87      0.80        45\n",
      "           5       0.89      0.94      0.92        54\n",
      "           6       0.80      0.82      0.81        39\n",
      "           7       0.95      0.93      0.94        57\n",
      "           8       0.77      0.84      0.80        43\n",
      "           9       0.86      0.84      0.85        50\n",
      "          10       0.72      0.74      0.73        35\n",
      "\n",
      "   micro avg       0.80      0.85      0.82       481\n",
      "   macro avg       0.79      0.84      0.81       481\n",
      "weighted avg       0.81      0.85      0.82       481\n",
      " samples avg       0.74      0.78      0.74       481\n",
      "\n"
     ]
    },
    {
     "name": "stderr",
     "output_type": "stream",
     "text": [
      "c:\\Users\\limzh\\anaconda3\\lib\\site-packages\\sklearn\\metrics\\_classification.py:1344: UndefinedMetricWarning: Precision and F-score are ill-defined and being set to 0.0 in samples with no predicted labels. Use `zero_division` parameter to control this behavior.\n",
      "  _warn_prf(average, modifier, msg_start, len(result))\n",
      "c:\\Users\\limzh\\anaconda3\\lib\\site-packages\\sklearn\\metrics\\_classification.py:1344: UndefinedMetricWarning: Recall and F-score are ill-defined and being set to 0.0 in samples with no true labels. Use `zero_division` parameter to control this behavior.\n",
      "  _warn_prf(average, modifier, msg_start, len(result))\n"
     ]
    }
   ],
   "source": [
    "print(classification_report(y_test, xgb_pred1))"
   ]
  },
  {
   "cell_type": "code",
   "execution_count": 23,
   "metadata": {},
   "outputs": [
    {
     "name": "stdout",
     "output_type": "stream",
     "text": [
      "Accuracy of GBC1: 0.23809523809523808\n",
      "Accuracy of GNB1: 0.031746031746031744\n",
      "Accuracy of SVM1: 0.1746031746031746\n",
      "Accuracy of RFC1: 0.23809523809523808\n",
      "Accuracy of LR1: 0.15873015873015872\n",
      "Accuracy of XGB1: 0.25396825396825395\n"
     ]
    }
   ],
   "source": [
    "print(\"Accuracy of GBC1:\", accuracy_score(y_test, gbc_pred1))\n",
    "print(\"Accuracy of GNB1:\", accuracy_score(y_test, gnb_pred1))\n",
    "print(\"Accuracy of SVM1:\", accuracy_score(y_test, svm_pred1))\n",
    "print(\"Accuracy of RFC1:\", accuracy_score(y_test, rfc_pred1))\n",
    "print(\"Accuracy of LR1:\", accuracy_score(y_test, lr_pred1))\n",
    "print(\"Accuracy of XGB1:\", accuracy_score(y_test, xgb_pred1))"
   ]
  },
  {
   "cell_type": "code",
   "execution_count": 24,
   "metadata": {},
   "outputs": [],
   "source": [
    "y_test_df = pd.DataFrame(y_test)"
   ]
  },
  {
   "cell_type": "code",
   "execution_count": 25,
   "metadata": {},
   "outputs": [],
   "source": [
    "def accuracy_std(pred):\n",
    "  pred1_df = pd.DataFrame(pred)\n",
    "  accuracy = []\n",
    "  for i in range(len(y_test.columns)):\n",
    "    accuracy.append(accuracy_score(y_test_df.iloc[:, i], pred1_df.iloc[:, i]))\n",
    "  print(f\"Standard Deviation of Accuracies: {np.std(accuracy)}\")"
   ]
  },
  {
   "cell_type": "code",
   "execution_count": 26,
   "metadata": {},
   "outputs": [
    {
     "name": "stdout",
     "output_type": "stream",
     "text": [
      "Standard Deviation of Accuracies: 0.06536653190710606\n",
      "Standard Deviation of Accuracies: 0.19461804916896133\n",
      "Standard Deviation of Accuracies: 0.07177391120026486\n",
      "Standard Deviation of Accuracies: 0.05900446839902128\n",
      "Standard Deviation of Accuracies: 0.07953543307082638\n",
      "Standard Deviation of Accuracies: 0.0722942282821088\n"
     ]
    }
   ],
   "source": [
    "accuracy_std(gbc_pred1)\n",
    "accuracy_std(gnb_pred1)\n",
    "accuracy_std(svm_pred1)\n",
    "accuracy_std(rfc_pred1)\n",
    "accuracy_std(lr_pred1)\n",
    "accuracy_std(xgb_pred1)"
   ]
  },
  {
   "cell_type": "markdown",
   "metadata": {},
   "source": [
    "## More Data Cleaning\n",
    "The performance of the models are nowhere near satisfactory. Hence, I will proceed to do more data cleaning.  \n",
    "**The cleaning below is done while referring to report2.html*"
   ]
  },
  {
   "cell_type": "markdown",
   "metadata": {},
   "source": [
    "### _prefsocmed\n",
    "Below are the columns which are very imbalanced due to one hot encoding. The approach is to group similar columns.\n",
    "- Discord_prefsocmed\n",
    "- WhatsApp_prefsocmed\n",
    "- Whatapp_prefsocmed\n",
    "- zoom_prefsocmed\n",
    "- Webex_prefsocmed\n",
    "- google meet_prefsocmed\n",
    "- Google meet _prefsocmed\n",
    "- Google Meet_prefsocmed\n",
    "- Microsoft Team_prefsocmed\n",
    "- Msteam_prefsocmed\n",
    "- Microsoft Teams_prefsocmed\n",
    "- Google Classroom_prefsocmed\n",
    "- Google Classroom _prefsocmed\n",
    "- Google classroom_prefsocmed\n",
    "- Reddit_prefsocmed\n",
    "- Blogger/Wordpress_prefsocmed\n",
    "- Forums_prefsocmed\n",
    "- TIKTOK_prefsocmed\n",
    "- Tiktok_prefsocmed\n",
    "- YouTube _prefsocmed\n",
    "- Telegram_prefsocmed\n",
    "- Telegram and Google Classroom_prefsocmed\n",
    "- LinkedIn_prefsocmed"
   ]
  },
  {
   "cell_type": "code",
   "execution_count": 27,
   "metadata": {},
   "outputs": [],
   "source": [
    "similar_socmed = [\n",
    "  [\"WhatsApp_prefsocmed\", \"Whatapp_prefsocmed\"],\n",
    "  [\"zoom_prefsocmed\", \"Webex_prefsocmed\", \"google meet_prefsocmed\", \"Google meet _prefsocmed\", \"Google Meet_prefsocmed\"],\n",
    "  [\"Microsoft Teams_prefsocmed\", \"Msteam_prefsocmed\", \"Microsoft Team_prefsocmed\"],\n",
    "  [\"Google Classroom_prefsocmed\", \"Google Classroom _prefsocmed\", \"Google classroom_prefsocmed\"],\n",
    "  [\"TIKTOK_prefsocmed\", \"Tiktok_prefsocmed\"], \n",
    "  [\"Reddit_prefsocmed\", \"Blogger/Wordpress_prefsocmed\", \"Forums_prefsocmed\"],\n",
    "  [\"YouTube _prefsocmed\", \"Youtube_prefsocmed\"]\n",
    "]"
   ]
  },
  {
   "cell_type": "markdown",
   "metadata": {},
   "source": [
    "Some of the columns are ignored as they don't belong to a particular similar group and the data is too few to be significant."
   ]
  },
  {
   "cell_type": "code",
   "execution_count": 28,
   "metadata": {},
   "outputs": [],
   "source": [
    "for socmed in similar_socmed:\n",
    "  first_column = socmed[0]\n",
    "  df[first_column] = df[socmed].max(axis=1)"
   ]
  },
  {
   "cell_type": "code",
   "execution_count": 29,
   "metadata": {},
   "outputs": [],
   "source": [
    "for socmed in similar_socmed:\n",
    "  socmed = socmed[1:]\n",
    "  df.drop(socmed, inplace=True, axis=\"columns\")"
   ]
  },
  {
   "cell_type": "code",
   "execution_count": 30,
   "metadata": {},
   "outputs": [],
   "source": [
    "other_columns = [\"Discord_prefsocmed\", \"Telegram_prefsocmed\", \"Telegram and Google Classroom_prefsocmed\", \"LinkedIn_prefsocmed\"]"
   ]
  },
  {
   "cell_type": "code",
   "execution_count": 31,
   "metadata": {},
   "outputs": [],
   "source": [
    "df.drop(other_columns, inplace=True, axis=\"columns\")"
   ]
  },
  {
   "cell_type": "markdown",
   "metadata": {},
   "source": [
    "### _prefcomm\n",
    "Below are the columns which are very imbalanced due to one hot encoding. The approach to clean this subset of data is similar to those in _prefsocmed.\n",
    "- Telegram_prefcomm\n",
    "- telegram_prefcomm\n",
    "- Zoom_prefcomm\n",
    "- Google Meet_prefcomm\n",
    "- Google meet_prefcomm\n",
    "- Google Meet _prefcomm\n",
    "- Google meet _prefcomm\n",
    "- Cisco Webex_prefcomm\n",
    "- MS Team_prefcomm\n",
    "- Microsoft Teams_prefcomm\n",
    "- Google Classroom _prefcomm\n",
    "- Google Classroom_prefcomm\n",
    "- Kaizala_prefcomm\n",
    "- Discord_prefcomm"
   ]
  },
  {
   "cell_type": "code",
   "execution_count": 32,
   "metadata": {},
   "outputs": [],
   "source": [
    "similar_comm = [\n",
    "  [\"Telegram_prefcomm\", \"telegram_prefcomm\"], \n",
    "  [\"Zoom_prefcomm\", \"Google meet_prefcomm\", \"Google Meet _prefcomm\", \"Google Meet_prefcomm\", \"Google meet _prefcomm\", \"Cisco Webex_prefcomm\"], \n",
    "  [\"MS Team_prefcomm\", \"Microsoft Teams_prefcomm\"], \n",
    "  [\"Google Classroom _prefcomm\", \"Google Classroom_prefcomm\"]\n",
    "]\n",
    "comm_to_rm = [\"Kaizala_prefcomm\", \"Discord_prefcomm\"]"
   ]
  },
  {
   "cell_type": "code",
   "execution_count": 33,
   "metadata": {},
   "outputs": [],
   "source": [
    "for comm in similar_comm:\n",
    "  first_column = comm[0]\n",
    "  df[first_column] = df[comm].max(axis=1)"
   ]
  },
  {
   "cell_type": "code",
   "execution_count": 34,
   "metadata": {},
   "outputs": [],
   "source": [
    "for comm in similar_comm:\n",
    "  comm = comm[1:]\n",
    "  df.drop(comm, inplace=True, axis=\"columns\")\n",
    "df.drop(comm_to_rm, inplace=True, axis=\"columns\")"
   ]
  },
  {
   "cell_type": "markdown",
   "metadata": {},
   "source": [
    "### _onlinelearningdifficulties\n",
    "Below are the columns related to online learning difficulties:\n",
    "- Accessibility_onlinelearningdifficulties\n",
    "- I've always had a terrible attention span even in f2f classes_onlinelearningdifficulties\n",
    "- Not sure_onlinelearningdifficulties\n",
    "- Line connection_onlinelearningdifficulties\n",
    "- Quality of Material_onlinelearningdifficulties\n",
    "- Adaptability_onlinelearningdifficulties\n",
    "- no actual study space at home so have to study on the bed_onlinelearningdifficulties\n",
    "- Health Issues_onlinelearningdifficulties\n",
    "- its just that there is no feeling T_T_onlinelearningdifficulties\n",
    "- University lack of student well-being management_onlinelearningdifficulties\n",
    "- Focus/Commitment_onlinelearningdifficulties\n",
    "- No_onlinelearningdifficulties\n",
    "- Not enough data _onlinelearningdifficulties\n",
    "- Time Management_onlinelearningdifficulties\n",
    "- Cost_onlinelearningdifficulties\n",
    "- ie: family conflicts_onlinelearningdifficulties\n",
    "- Technical Issues_onlinelearningdifficulties\n",
    "- Engagement_onlinelearningdifficulties\n",
    "- External factors_onlinelearningdifficulties\n",
    "- I cannot study well using online_onlinelearningdifficulties\n",
    "- Self-Motivation_onlinelearningdifficulties\n",
    "- Computer Literacy_onlinelearningdifficulties\n",
    "- Cost/Focus/Commitment_onlinelearningdifficulties\n",
    "- None_onlinelearningdifficulties\n",
    "\n",
    "\"Not sure\", \"No\", \"Not enough data\", and \"None\" will be removed. While the others will be grouped based on their similarities in nature.  \n",
    "\n",
    "I have identified the columns below to be the main groups of online learning difficulties, the other columns will be grouped based on them: \n",
    "- Accessibility_onlinelearningdifficulties\n",
    "- Quality of Material_onlinelearningdifficulties\n",
    "- Adaptability_onlinelearningdifficulties\n",
    "- Health Issues_onlinelearningdifficulties\n",
    "- Focus/Commitment_onlinelearningdifficulties\n",
    "- Time Management_onlinelearningdifficulties\n",
    "- Cost_onlinelearningdifficulties\n",
    "- Technical Issues_onlinelearningdifficulties\n",
    "- Engagement_onlinelearningdifficulties\n",
    "- Self-Motivation_onlinelearningdifficulties"
   ]
  },
  {
   "cell_type": "code",
   "execution_count": 35,
   "metadata": {},
   "outputs": [],
   "source": [
    "difficulties_group = [\n",
    "  [\"Adaptability_onlinelearningdifficulties\", \n",
    "   \"I've always had a terrible attention span even in f2f classes_onlinelearningdifficulties\", \n",
    "   \"University lack of student well-being management_onlinelearningdifficulties\",\n",
    "   \"External factors_onlinelearningdifficulties\", \n",
    "   \"I cannot study well using online_onlinelearningdifficulties\"], \n",
    "  [\"Technical Issues_onlinelearningdifficulties\", \n",
    "   \"Line connection_onlinelearningdifficulties\", \n",
    "   \"Computer Literacy_onlinelearningdifficulties\"],\n",
    "  [\"Engagement_onlinelearningdifficulties\", \n",
    "   \"no actual study space at home so have to study on the bed_onlinelearningdifficulties\"], \n",
    "  [\"Self-Motivation_onlinelearningdifficulties\", \n",
    "   \"its just that there is no feeling T_T_onlinelearningdifficulties\"],\n",
    "  [\"Focus/Commitment_onlinelearningdifficulties\", \n",
    "   \"ie: family conflicts_onlinelearningdifficulties\", \n",
    "   \"Cost/Focus/Commitment_onlinelearningdifficulties\"],\n",
    "  [\"Cost_onlinelearningdifficulties\", \"Cost/Focus/Commitment_onlinelearningdifficulties\"]\n",
    "]\n",
    "difficulties_to_rm = [\"No_onlinelearningdifficulties\", \n",
    "                      \"Not enough data _onlinelearningdifficulties\", \n",
    "                      \"Not sure_onlinelearningdifficulties\", \n",
    "                      \"None_onlinelearningdifficulties\"]"
   ]
  },
  {
   "cell_type": "code",
   "execution_count": 36,
   "metadata": {},
   "outputs": [],
   "source": [
    "for difficulties in difficulties_group:\n",
    "  first_column = difficulties[0]\n",
    "  df[first_column] = df[difficulties].max(axis=1)"
   ]
  },
  {
   "cell_type": "code",
   "execution_count": 37,
   "metadata": {},
   "outputs": [],
   "source": [
    "for difficulties in difficulties_group[:-1]:\n",
    "  difficulties = difficulties[1:]\n",
    "  df.drop(difficulties, inplace=True, axis=\"columns\")\n",
    "df.drop(difficulties_to_rm, inplace=True, axis=\"columns\")"
   ]
  },
  {
   "cell_type": "code",
   "execution_count": 38,
   "metadata": {},
   "outputs": [
    {
     "data": {
      "text/plain": [
       "(314, 135)"
      ]
     },
     "execution_count": 38,
     "metadata": {},
     "output_type": "execute_result"
    }
   ],
   "source": [
    "df.shape"
   ]
  },
  {
   "cell_type": "markdown",
   "metadata": {},
   "source": [
    "### Online Instructional Strategies/Assessment Grouping\n",
    "Some of these newly derived columns have very imbalanced data (i.e. only few rows contain the value '1', while others '0'). To tackle this, these imbalanced columns (contains more than 90% of zeros) will be grouped into a new 'others' column. These columns are: \n",
    "- debugging\n",
    "- problem based learning\n",
    "- case study\n",
    "- demo\n",
    "- simulation\n",
    "- guided\n",
    "- forum\n",
    "- game\n",
    "- journaling\n",
    "- writing"
   ]
  },
  {
   "cell_type": "code",
   "execution_count": 39,
   "metadata": {},
   "outputs": [
    {
     "data": {
      "text/html": [
       "<div>\n",
       "<style scoped>\n",
       "    .dataframe tbody tr th:only-of-type {\n",
       "        vertical-align: middle;\n",
       "    }\n",
       "\n",
       "    .dataframe tbody tr th {\n",
       "        vertical-align: top;\n",
       "    }\n",
       "\n",
       "    .dataframe thead th {\n",
       "        text-align: right;\n",
       "    }\n",
       "</style>\n",
       "<table border=\"1\" class=\"dataframe\">\n",
       "  <thead>\n",
       "    <tr style=\"text-align: right;\">\n",
       "      <th></th>\n",
       "      <th>debugging</th>\n",
       "      <th>problem based learning</th>\n",
       "      <th>case study</th>\n",
       "      <th>demo</th>\n",
       "      <th>simulation</th>\n",
       "      <th>guided</th>\n",
       "      <th>forum</th>\n",
       "      <th>game</th>\n",
       "      <th>journaling</th>\n",
       "      <th>writing</th>\n",
       "    </tr>\n",
       "  </thead>\n",
       "  <tbody>\n",
       "    <tr>\n",
       "      <th>0</th>\n",
       "      <td>0</td>\n",
       "      <td>0</td>\n",
       "      <td>0</td>\n",
       "      <td>0</td>\n",
       "      <td>0</td>\n",
       "      <td>0</td>\n",
       "      <td>0</td>\n",
       "      <td>0</td>\n",
       "      <td>0</td>\n",
       "      <td>0</td>\n",
       "    </tr>\n",
       "    <tr>\n",
       "      <th>1</th>\n",
       "      <td>0</td>\n",
       "      <td>0</td>\n",
       "      <td>0</td>\n",
       "      <td>0</td>\n",
       "      <td>0</td>\n",
       "      <td>0</td>\n",
       "      <td>0</td>\n",
       "      <td>0</td>\n",
       "      <td>0</td>\n",
       "      <td>0</td>\n",
       "    </tr>\n",
       "    <tr>\n",
       "      <th>2</th>\n",
       "      <td>0</td>\n",
       "      <td>0</td>\n",
       "      <td>0</td>\n",
       "      <td>0</td>\n",
       "      <td>0</td>\n",
       "      <td>0</td>\n",
       "      <td>0</td>\n",
       "      <td>0</td>\n",
       "      <td>0</td>\n",
       "      <td>0</td>\n",
       "    </tr>\n",
       "    <tr>\n",
       "      <th>3</th>\n",
       "      <td>0</td>\n",
       "      <td>0</td>\n",
       "      <td>0</td>\n",
       "      <td>0</td>\n",
       "      <td>0</td>\n",
       "      <td>0</td>\n",
       "      <td>0</td>\n",
       "      <td>0</td>\n",
       "      <td>0</td>\n",
       "      <td>0</td>\n",
       "    </tr>\n",
       "    <tr>\n",
       "      <th>4</th>\n",
       "      <td>0</td>\n",
       "      <td>0</td>\n",
       "      <td>0</td>\n",
       "      <td>1</td>\n",
       "      <td>0</td>\n",
       "      <td>0</td>\n",
       "      <td>0</td>\n",
       "      <td>0</td>\n",
       "      <td>0</td>\n",
       "      <td>0</td>\n",
       "    </tr>\n",
       "    <tr>\n",
       "      <th>...</th>\n",
       "      <td>...</td>\n",
       "      <td>...</td>\n",
       "      <td>...</td>\n",
       "      <td>...</td>\n",
       "      <td>...</td>\n",
       "      <td>...</td>\n",
       "      <td>...</td>\n",
       "      <td>...</td>\n",
       "      <td>...</td>\n",
       "      <td>...</td>\n",
       "    </tr>\n",
       "    <tr>\n",
       "      <th>309</th>\n",
       "      <td>1</td>\n",
       "      <td>0</td>\n",
       "      <td>0</td>\n",
       "      <td>0</td>\n",
       "      <td>0</td>\n",
       "      <td>0</td>\n",
       "      <td>0</td>\n",
       "      <td>0</td>\n",
       "      <td>0</td>\n",
       "      <td>0</td>\n",
       "    </tr>\n",
       "    <tr>\n",
       "      <th>310</th>\n",
       "      <td>0</td>\n",
       "      <td>0</td>\n",
       "      <td>0</td>\n",
       "      <td>1</td>\n",
       "      <td>0</td>\n",
       "      <td>0</td>\n",
       "      <td>0</td>\n",
       "      <td>0</td>\n",
       "      <td>0</td>\n",
       "      <td>0</td>\n",
       "    </tr>\n",
       "    <tr>\n",
       "      <th>311</th>\n",
       "      <td>0</td>\n",
       "      <td>0</td>\n",
       "      <td>0</td>\n",
       "      <td>0</td>\n",
       "      <td>0</td>\n",
       "      <td>0</td>\n",
       "      <td>0</td>\n",
       "      <td>0</td>\n",
       "      <td>0</td>\n",
       "      <td>0</td>\n",
       "    </tr>\n",
       "    <tr>\n",
       "      <th>312</th>\n",
       "      <td>0</td>\n",
       "      <td>0</td>\n",
       "      <td>0</td>\n",
       "      <td>0</td>\n",
       "      <td>0</td>\n",
       "      <td>0</td>\n",
       "      <td>0</td>\n",
       "      <td>0</td>\n",
       "      <td>0</td>\n",
       "      <td>0</td>\n",
       "    </tr>\n",
       "    <tr>\n",
       "      <th>313</th>\n",
       "      <td>0</td>\n",
       "      <td>0</td>\n",
       "      <td>0</td>\n",
       "      <td>0</td>\n",
       "      <td>0</td>\n",
       "      <td>0</td>\n",
       "      <td>0</td>\n",
       "      <td>0</td>\n",
       "      <td>0</td>\n",
       "      <td>0</td>\n",
       "    </tr>\n",
       "  </tbody>\n",
       "</table>\n",
       "<p>314 rows × 10 columns</p>\n",
       "</div>"
      ],
      "text/plain": [
       "     debugging  problem based learning  case study  demo  simulation  guided  \\\n",
       "0            0                       0           0     0           0       0   \n",
       "1            0                       0           0     0           0       0   \n",
       "2            0                       0           0     0           0       0   \n",
       "3            0                       0           0     0           0       0   \n",
       "4            0                       0           0     1           0       0   \n",
       "..         ...                     ...         ...   ...         ...     ...   \n",
       "309          1                       0           0     0           0       0   \n",
       "310          0                       0           0     1           0       0   \n",
       "311          0                       0           0     0           0       0   \n",
       "312          0                       0           0     0           0       0   \n",
       "313          0                       0           0     0           0       0   \n",
       "\n",
       "     forum  game  journaling  writing  \n",
       "0        0     0           0        0  \n",
       "1        0     0           0        0  \n",
       "2        0     0           0        0  \n",
       "3        0     0           0        0  \n",
       "4        0     0           0        0  \n",
       "..     ...   ...         ...      ...  \n",
       "309      0     0           0        0  \n",
       "310      0     0           0        0  \n",
       "311      0     0           0        0  \n",
       "312      0     0           0        0  \n",
       "313      0     0           0        0  \n",
       "\n",
       "[314 rows x 10 columns]"
      ]
     },
     "execution_count": 39,
     "metadata": {},
     "output_type": "execute_result"
    }
   ],
   "source": [
    "online_assessment_columns = [\"debugging\", \"problem based learning\", \"case study\", \"demo\", \"simulation\", \"guided\", \"forum\", \"game\", \"journaling\", \"writing\"]\n",
    "sub_df = df[online_assessment_columns]\n",
    "sub_df"
   ]
  },
  {
   "cell_type": "code",
   "execution_count": 40,
   "metadata": {},
   "outputs": [
    {
     "name": "stderr",
     "output_type": "stream",
     "text": [
      "C:\\Users\\limzh\\AppData\\Local\\Temp\\ipykernel_3792\\325570515.py:1: SettingWithCopyWarning: \n",
      "A value is trying to be set on a copy of a slice from a DataFrame.\n",
      "Try using .loc[row_indexer,col_indexer] = value instead\n",
      "\n",
      "See the caveats in the documentation: https://pandas.pydata.org/pandas-docs/stable/user_guide/indexing.html#returning-a-view-versus-a-copy\n",
      "  sub_df[\"others\"] = sub_df.values.argmax(1)\n"
     ]
    },
    {
     "data": {
      "text/html": [
       "<div>\n",
       "<style scoped>\n",
       "    .dataframe tbody tr th:only-of-type {\n",
       "        vertical-align: middle;\n",
       "    }\n",
       "\n",
       "    .dataframe tbody tr th {\n",
       "        vertical-align: top;\n",
       "    }\n",
       "\n",
       "    .dataframe thead th {\n",
       "        text-align: right;\n",
       "    }\n",
       "</style>\n",
       "<table border=\"1\" class=\"dataframe\">\n",
       "  <thead>\n",
       "    <tr style=\"text-align: right;\">\n",
       "      <th></th>\n",
       "      <th>debugging</th>\n",
       "      <th>problem based learning</th>\n",
       "      <th>case study</th>\n",
       "      <th>demo</th>\n",
       "      <th>simulation</th>\n",
       "      <th>guided</th>\n",
       "      <th>forum</th>\n",
       "      <th>game</th>\n",
       "      <th>journaling</th>\n",
       "      <th>writing</th>\n",
       "      <th>others</th>\n",
       "    </tr>\n",
       "  </thead>\n",
       "  <tbody>\n",
       "    <tr>\n",
       "      <th>0</th>\n",
       "      <td>0</td>\n",
       "      <td>0</td>\n",
       "      <td>0</td>\n",
       "      <td>0</td>\n",
       "      <td>0</td>\n",
       "      <td>0</td>\n",
       "      <td>0</td>\n",
       "      <td>0</td>\n",
       "      <td>0</td>\n",
       "      <td>0</td>\n",
       "      <td>0</td>\n",
       "    </tr>\n",
       "    <tr>\n",
       "      <th>1</th>\n",
       "      <td>0</td>\n",
       "      <td>0</td>\n",
       "      <td>0</td>\n",
       "      <td>0</td>\n",
       "      <td>0</td>\n",
       "      <td>0</td>\n",
       "      <td>0</td>\n",
       "      <td>0</td>\n",
       "      <td>0</td>\n",
       "      <td>0</td>\n",
       "      <td>0</td>\n",
       "    </tr>\n",
       "    <tr>\n",
       "      <th>2</th>\n",
       "      <td>0</td>\n",
       "      <td>0</td>\n",
       "      <td>0</td>\n",
       "      <td>0</td>\n",
       "      <td>0</td>\n",
       "      <td>0</td>\n",
       "      <td>0</td>\n",
       "      <td>0</td>\n",
       "      <td>0</td>\n",
       "      <td>0</td>\n",
       "      <td>0</td>\n",
       "    </tr>\n",
       "    <tr>\n",
       "      <th>3</th>\n",
       "      <td>0</td>\n",
       "      <td>0</td>\n",
       "      <td>0</td>\n",
       "      <td>0</td>\n",
       "      <td>0</td>\n",
       "      <td>0</td>\n",
       "      <td>0</td>\n",
       "      <td>0</td>\n",
       "      <td>0</td>\n",
       "      <td>0</td>\n",
       "      <td>0</td>\n",
       "    </tr>\n",
       "    <tr>\n",
       "      <th>4</th>\n",
       "      <td>0</td>\n",
       "      <td>0</td>\n",
       "      <td>0</td>\n",
       "      <td>1</td>\n",
       "      <td>0</td>\n",
       "      <td>0</td>\n",
       "      <td>0</td>\n",
       "      <td>0</td>\n",
       "      <td>0</td>\n",
       "      <td>0</td>\n",
       "      <td>3</td>\n",
       "    </tr>\n",
       "    <tr>\n",
       "      <th>...</th>\n",
       "      <td>...</td>\n",
       "      <td>...</td>\n",
       "      <td>...</td>\n",
       "      <td>...</td>\n",
       "      <td>...</td>\n",
       "      <td>...</td>\n",
       "      <td>...</td>\n",
       "      <td>...</td>\n",
       "      <td>...</td>\n",
       "      <td>...</td>\n",
       "      <td>...</td>\n",
       "    </tr>\n",
       "    <tr>\n",
       "      <th>309</th>\n",
       "      <td>1</td>\n",
       "      <td>0</td>\n",
       "      <td>0</td>\n",
       "      <td>0</td>\n",
       "      <td>0</td>\n",
       "      <td>0</td>\n",
       "      <td>0</td>\n",
       "      <td>0</td>\n",
       "      <td>0</td>\n",
       "      <td>0</td>\n",
       "      <td>0</td>\n",
       "    </tr>\n",
       "    <tr>\n",
       "      <th>310</th>\n",
       "      <td>0</td>\n",
       "      <td>0</td>\n",
       "      <td>0</td>\n",
       "      <td>1</td>\n",
       "      <td>0</td>\n",
       "      <td>0</td>\n",
       "      <td>0</td>\n",
       "      <td>0</td>\n",
       "      <td>0</td>\n",
       "      <td>0</td>\n",
       "      <td>3</td>\n",
       "    </tr>\n",
       "    <tr>\n",
       "      <th>311</th>\n",
       "      <td>0</td>\n",
       "      <td>0</td>\n",
       "      <td>0</td>\n",
       "      <td>0</td>\n",
       "      <td>0</td>\n",
       "      <td>0</td>\n",
       "      <td>0</td>\n",
       "      <td>0</td>\n",
       "      <td>0</td>\n",
       "      <td>0</td>\n",
       "      <td>0</td>\n",
       "    </tr>\n",
       "    <tr>\n",
       "      <th>312</th>\n",
       "      <td>0</td>\n",
       "      <td>0</td>\n",
       "      <td>0</td>\n",
       "      <td>0</td>\n",
       "      <td>0</td>\n",
       "      <td>0</td>\n",
       "      <td>0</td>\n",
       "      <td>0</td>\n",
       "      <td>0</td>\n",
       "      <td>0</td>\n",
       "      <td>0</td>\n",
       "    </tr>\n",
       "    <tr>\n",
       "      <th>313</th>\n",
       "      <td>0</td>\n",
       "      <td>0</td>\n",
       "      <td>0</td>\n",
       "      <td>0</td>\n",
       "      <td>0</td>\n",
       "      <td>0</td>\n",
       "      <td>0</td>\n",
       "      <td>0</td>\n",
       "      <td>0</td>\n",
       "      <td>0</td>\n",
       "      <td>0</td>\n",
       "    </tr>\n",
       "  </tbody>\n",
       "</table>\n",
       "<p>314 rows × 11 columns</p>\n",
       "</div>"
      ],
      "text/plain": [
       "     debugging  problem based learning  case study  demo  simulation  guided  \\\n",
       "0            0                       0           0     0           0       0   \n",
       "1            0                       0           0     0           0       0   \n",
       "2            0                       0           0     0           0       0   \n",
       "3            0                       0           0     0           0       0   \n",
       "4            0                       0           0     1           0       0   \n",
       "..         ...                     ...         ...   ...         ...     ...   \n",
       "309          1                       0           0     0           0       0   \n",
       "310          0                       0           0     1           0       0   \n",
       "311          0                       0           0     0           0       0   \n",
       "312          0                       0           0     0           0       0   \n",
       "313          0                       0           0     0           0       0   \n",
       "\n",
       "     forum  game  journaling  writing  others  \n",
       "0        0     0           0        0       0  \n",
       "1        0     0           0        0       0  \n",
       "2        0     0           0        0       0  \n",
       "3        0     0           0        0       0  \n",
       "4        0     0           0        0       3  \n",
       "..     ...   ...         ...      ...     ...  \n",
       "309      0     0           0        0       0  \n",
       "310      0     0           0        0       3  \n",
       "311      0     0           0        0       0  \n",
       "312      0     0           0        0       0  \n",
       "313      0     0           0        0       0  \n",
       "\n",
       "[314 rows x 11 columns]"
      ]
     },
     "execution_count": 40,
     "metadata": {},
     "output_type": "execute_result"
    }
   ],
   "source": [
    "sub_df[\"others\"] = sub_df.values.argmax(1)\n",
    "sub_df"
   ]
  },
  {
   "cell_type": "code",
   "execution_count": 41,
   "metadata": {},
   "outputs": [
    {
     "name": "stderr",
     "output_type": "stream",
     "text": [
      "C:\\Users\\limzh\\AppData\\Local\\Temp\\ipykernel_3792\\2533732910.py:1: SettingWithCopyWarning: \n",
      "A value is trying to be set on a copy of a slice from a DataFrame.\n",
      "Try using .loc[row_indexer,col_indexer] = value instead\n",
      "\n",
      "See the caveats in the documentation: https://pandas.pydata.org/pandas-docs/stable/user_guide/indexing.html#returning-a-view-versus-a-copy\n",
      "  sub_df[\"others\"] = np.where(sub_df[\"others\"] > 0, 1, 0)\n"
     ]
    },
    {
     "data": {
      "text/html": [
       "<div>\n",
       "<style scoped>\n",
       "    .dataframe tbody tr th:only-of-type {\n",
       "        vertical-align: middle;\n",
       "    }\n",
       "\n",
       "    .dataframe tbody tr th {\n",
       "        vertical-align: top;\n",
       "    }\n",
       "\n",
       "    .dataframe thead th {\n",
       "        text-align: right;\n",
       "    }\n",
       "</style>\n",
       "<table border=\"1\" class=\"dataframe\">\n",
       "  <thead>\n",
       "    <tr style=\"text-align: right;\">\n",
       "      <th></th>\n",
       "      <th>debugging</th>\n",
       "      <th>problem based learning</th>\n",
       "      <th>case study</th>\n",
       "      <th>demo</th>\n",
       "      <th>simulation</th>\n",
       "      <th>guided</th>\n",
       "      <th>forum</th>\n",
       "      <th>game</th>\n",
       "      <th>journaling</th>\n",
       "      <th>writing</th>\n",
       "      <th>others</th>\n",
       "    </tr>\n",
       "  </thead>\n",
       "  <tbody>\n",
       "    <tr>\n",
       "      <th>0</th>\n",
       "      <td>0</td>\n",
       "      <td>0</td>\n",
       "      <td>0</td>\n",
       "      <td>0</td>\n",
       "      <td>0</td>\n",
       "      <td>0</td>\n",
       "      <td>0</td>\n",
       "      <td>0</td>\n",
       "      <td>0</td>\n",
       "      <td>0</td>\n",
       "      <td>0</td>\n",
       "    </tr>\n",
       "    <tr>\n",
       "      <th>1</th>\n",
       "      <td>0</td>\n",
       "      <td>0</td>\n",
       "      <td>0</td>\n",
       "      <td>0</td>\n",
       "      <td>0</td>\n",
       "      <td>0</td>\n",
       "      <td>0</td>\n",
       "      <td>0</td>\n",
       "      <td>0</td>\n",
       "      <td>0</td>\n",
       "      <td>0</td>\n",
       "    </tr>\n",
       "    <tr>\n",
       "      <th>2</th>\n",
       "      <td>0</td>\n",
       "      <td>0</td>\n",
       "      <td>0</td>\n",
       "      <td>0</td>\n",
       "      <td>0</td>\n",
       "      <td>0</td>\n",
       "      <td>0</td>\n",
       "      <td>0</td>\n",
       "      <td>0</td>\n",
       "      <td>0</td>\n",
       "      <td>0</td>\n",
       "    </tr>\n",
       "    <tr>\n",
       "      <th>3</th>\n",
       "      <td>0</td>\n",
       "      <td>0</td>\n",
       "      <td>0</td>\n",
       "      <td>0</td>\n",
       "      <td>0</td>\n",
       "      <td>0</td>\n",
       "      <td>0</td>\n",
       "      <td>0</td>\n",
       "      <td>0</td>\n",
       "      <td>0</td>\n",
       "      <td>0</td>\n",
       "    </tr>\n",
       "    <tr>\n",
       "      <th>4</th>\n",
       "      <td>0</td>\n",
       "      <td>0</td>\n",
       "      <td>0</td>\n",
       "      <td>1</td>\n",
       "      <td>0</td>\n",
       "      <td>0</td>\n",
       "      <td>0</td>\n",
       "      <td>0</td>\n",
       "      <td>0</td>\n",
       "      <td>0</td>\n",
       "      <td>1</td>\n",
       "    </tr>\n",
       "    <tr>\n",
       "      <th>...</th>\n",
       "      <td>...</td>\n",
       "      <td>...</td>\n",
       "      <td>...</td>\n",
       "      <td>...</td>\n",
       "      <td>...</td>\n",
       "      <td>...</td>\n",
       "      <td>...</td>\n",
       "      <td>...</td>\n",
       "      <td>...</td>\n",
       "      <td>...</td>\n",
       "      <td>...</td>\n",
       "    </tr>\n",
       "    <tr>\n",
       "      <th>309</th>\n",
       "      <td>1</td>\n",
       "      <td>0</td>\n",
       "      <td>0</td>\n",
       "      <td>0</td>\n",
       "      <td>0</td>\n",
       "      <td>0</td>\n",
       "      <td>0</td>\n",
       "      <td>0</td>\n",
       "      <td>0</td>\n",
       "      <td>0</td>\n",
       "      <td>0</td>\n",
       "    </tr>\n",
       "    <tr>\n",
       "      <th>310</th>\n",
       "      <td>0</td>\n",
       "      <td>0</td>\n",
       "      <td>0</td>\n",
       "      <td>1</td>\n",
       "      <td>0</td>\n",
       "      <td>0</td>\n",
       "      <td>0</td>\n",
       "      <td>0</td>\n",
       "      <td>0</td>\n",
       "      <td>0</td>\n",
       "      <td>1</td>\n",
       "    </tr>\n",
       "    <tr>\n",
       "      <th>311</th>\n",
       "      <td>0</td>\n",
       "      <td>0</td>\n",
       "      <td>0</td>\n",
       "      <td>0</td>\n",
       "      <td>0</td>\n",
       "      <td>0</td>\n",
       "      <td>0</td>\n",
       "      <td>0</td>\n",
       "      <td>0</td>\n",
       "      <td>0</td>\n",
       "      <td>0</td>\n",
       "    </tr>\n",
       "    <tr>\n",
       "      <th>312</th>\n",
       "      <td>0</td>\n",
       "      <td>0</td>\n",
       "      <td>0</td>\n",
       "      <td>0</td>\n",
       "      <td>0</td>\n",
       "      <td>0</td>\n",
       "      <td>0</td>\n",
       "      <td>0</td>\n",
       "      <td>0</td>\n",
       "      <td>0</td>\n",
       "      <td>0</td>\n",
       "    </tr>\n",
       "    <tr>\n",
       "      <th>313</th>\n",
       "      <td>0</td>\n",
       "      <td>0</td>\n",
       "      <td>0</td>\n",
       "      <td>0</td>\n",
       "      <td>0</td>\n",
       "      <td>0</td>\n",
       "      <td>0</td>\n",
       "      <td>0</td>\n",
       "      <td>0</td>\n",
       "      <td>0</td>\n",
       "      <td>0</td>\n",
       "    </tr>\n",
       "  </tbody>\n",
       "</table>\n",
       "<p>314 rows × 11 columns</p>\n",
       "</div>"
      ],
      "text/plain": [
       "     debugging  problem based learning  case study  demo  simulation  guided  \\\n",
       "0            0                       0           0     0           0       0   \n",
       "1            0                       0           0     0           0       0   \n",
       "2            0                       0           0     0           0       0   \n",
       "3            0                       0           0     0           0       0   \n",
       "4            0                       0           0     1           0       0   \n",
       "..         ...                     ...         ...   ...         ...     ...   \n",
       "309          1                       0           0     0           0       0   \n",
       "310          0                       0           0     1           0       0   \n",
       "311          0                       0           0     0           0       0   \n",
       "312          0                       0           0     0           0       0   \n",
       "313          0                       0           0     0           0       0   \n",
       "\n",
       "     forum  game  journaling  writing  others  \n",
       "0        0     0           0        0       0  \n",
       "1        0     0           0        0       0  \n",
       "2        0     0           0        0       0  \n",
       "3        0     0           0        0       0  \n",
       "4        0     0           0        0       1  \n",
       "..     ...   ...         ...      ...     ...  \n",
       "309      0     0           0        0       0  \n",
       "310      0     0           0        0       1  \n",
       "311      0     0           0        0       0  \n",
       "312      0     0           0        0       0  \n",
       "313      0     0           0        0       0  \n",
       "\n",
       "[314 rows x 11 columns]"
      ]
     },
     "execution_count": 41,
     "metadata": {},
     "output_type": "execute_result"
    }
   ],
   "source": [
    "sub_df[\"others\"] = np.where(sub_df[\"others\"] > 0, 1, 0)\n",
    "sub_df"
   ]
  },
  {
   "cell_type": "code",
   "execution_count": 42,
   "metadata": {},
   "outputs": [],
   "source": [
    "sub_df = sub_df[\"others\"]\n",
    "df.drop(online_assessment_columns, inplace=True, axis=\"columns\")"
   ]
  },
  {
   "cell_type": "code",
   "execution_count": 43,
   "metadata": {},
   "outputs": [],
   "source": [
    "df = df.merge(sub_df.to_frame(), left_index=True, right_index=True)"
   ]
  },
  {
   "cell_type": "code",
   "execution_count": 44,
   "metadata": {},
   "outputs": [],
   "source": [
    "# report3 = ProfileReport(df, title=\"Re-clean\", minimal=True, html={\"style\": {\"full_width\": True}})\n",
    "# report3.to_file(\"report3.html\")"
   ]
  },
  {
   "cell_type": "markdown",
   "metadata": {},
   "source": [
    "# Second Run of Models"
   ]
  },
  {
   "cell_type": "code",
   "execution_count": 45,
   "metadata": {},
   "outputs": [
    {
     "name": "stdout",
     "output_type": "stream",
     "text": [
      "X2.shape: (314, 115)\n",
      "y2.shape: (314, 11)\n"
     ]
    }
   ],
   "source": [
    "X2 = df.loc[:, ~df.columns.isin(targets)]\n",
    "y2 = df[targets]\n",
    "print(f\"X2.shape: {X2.shape}\")\n",
    "print(f\"y2.shape: {y2.shape}\")"
   ]
  },
  {
   "cell_type": "code",
   "execution_count": 86,
   "metadata": {},
   "outputs": [
    {
     "name": "stdout",
     "output_type": "stream",
     "text": [
      "Gender\n",
      "Level of Study\n",
      "Field of study\n",
      "Household Income\n",
      "Learning Objects _Slide presentation_\n",
      "Learning Objects _Book_\n",
      "Learning Objects _Lecture Note_\n",
      "Learning Objects _Educational game_\n",
      "Learning Objects _Video_\n",
      "Learning Objects _Audio-recorded lecture_\n",
      "Learning Objects _Animated instruction_\n",
      "Learning Objects _Real object model_\n",
      "Learning Objects _Mind Map_\n",
      "Learning Objects _Multimedia content_\n",
      "Learning Objects _Interactive Tool_\n",
      "Learning Objects _Technology-supported learning include computer-based training systems_\n",
      "Learning Objects _Intelligent computer-aided instruction systems_\n",
      "6. Online Instructional Strategies/Assessment _Live Lecture_\n",
      "6. Online Instructional Strategies/Assessment _Pre-Recorded Lecture_\n",
      "6. Online Instructional Strategies/Assessment _Pre-Recorded Slide Lecture_\n",
      "6. Online Instructional Strategies/Assessment _Demonstration_\n",
      "6. Online Instructional Strategies/Assessment _Simulation_\n",
      "6. Online Instructional Strategies/Assessment _Guided Learning (Hands on)_\n",
      "6. Online Instructional Strategies/Assessment _Digital Lab Experiments_\n",
      "6. Online Instructional Strategies/Assessment _Live Group Discussions_\n",
      "6. Online Instructional Strategies/Assessment _Forum_\n",
      "6. Online Instructional Strategies/Assessment _Games_\n",
      "6. Online Instructional Strategies/Assessment _Journaling_\n",
      "6. Online Instructional Strategies/Assessment _YouTube Video_\n",
      "6. Online Instructional Strategies/Assessment _Video based feedback_\n",
      "6. Online Instructional Strategies/Assessment _Live Chat_\n",
      "6. Online Instructional Strategies/Assessment _Brainstorming_\n",
      "6. Online Instructional Strategies/Assessment _Online Debate_\n",
      "6. Online Instructional Strategies/Assessment _Blog Writing_\n",
      "6. Online Instructional Strategies/Assessment _Problem Based Learning_\n",
      "6. Online Instructional Strategies/Assessment _Internet Research_\n",
      "6. Online Instructional Strategies/Assessment _Invited Guest Online Lecture_\n",
      "6. Online Instructional Strategies/Assessment _Virtual Field Trip_\n",
      "6. Online Instructional Strategies/Assessment _Exit tickets (End Class Feedback)_\n",
      "6. Online Instructional Strategies/Assessment _Learning Reflection_\n",
      "6. Online Instructional Strategies/Assessment _Online Exercise/Practice_\n",
      "6. Online Instructional Strategies/Assessment _Procedural Demonstration (Perform a given action)_\n",
      "6. Online Instructional Strategies/Assessment _Concept Mapping_\n",
      "6. Online Instructional Strategies/Assessment _Document Analysis_\n",
      "6. Online Instructional Strategies/Assessment _Debugging_\n",
      "6. Online Instructional Strategies/Assessment _Review (Article, Play, Movie, Audio, Book, etc.)_\n",
      "Are you familiar with the term learning style before this survey?\n",
      "Are you aware what your learning style is?\n",
      "Do you think knowing your own learning style is important in improving your learning ability?\n",
      "1. When operating new equipment for the first time I prefer to\n",
      "2. When seeking travel directions I\n",
      "3. When cooking a new dish I\n",
      "4. To teach someone something I\n",
      "5. I tend to say \n",
      "6. I tend to say \n",
      "7. I tend to say \n",
      "8. Complaining about faulty goods I tend to\n",
      "9. I prefer these leisure activities\n",
      "10. When shopping generally I tend to\n",
      "11. Choosing a holiday I\n",
      "12. Choosing a new car I\n",
      "13. Learning a new skill\n",
      "14. Choosing from a restaurant menu\n",
      "15. When listening to a band\n",
      "16. When concentrating I\n",
      "17. I remember things best by\n",
      "18. My first memory is of\n",
      "19. When anxious I\n",
      "20. I feel especially connected to others because of\n",
      "21. When I revise for an exam, I\n",
      "22. When explaining something to someone, I tend to\n",
      "23. My main interests are\n",
      "24. Most of my free time is spent\n",
      "25. When I first contact a new person\n",
      "26. I first notice how people\n",
      "27. If I am very angry\n",
      "28. I find it easiest to remember\n",
      "29. I think I can tell someone is lying because\n",
      "30. When I'm meeting with an old friend\n",
      "Dominant_VAK\n",
      "Synchronous Online Learning (Real Time)_learnmode\n",
      "Face to Face_learnmode\n",
      "Asynchronous Online Learning (On your own time)_learnmode\n",
      "Facebook_prefsocmed\n",
      "Google Classroom_prefsocmed\n",
      "WhatsApp_prefsocmed\n",
      "Microsoft Teams_prefsocmed\n",
      "Instagram_prefsocmed\n",
      "YouTube _prefsocmed\n",
      "zoom_prefsocmed\n",
      "Reddit_prefsocmed\n",
      "Twitter_prefsocmed\n",
      "TIKTOK_prefsocmed\n",
      "Call_prefcomm\n",
      "Google Classroom _prefcomm\n",
      "MS Team_prefcomm\n",
      "Whatsapp_prefcomm\n",
      "University eLearning Chat Room_prefcomm\n",
      "Zoom_prefcomm\n",
      "Telegram_prefcomm\n",
      "Email_prefcomm\n",
      "Time Management_onlinelearningdifficulties\n",
      "Technical Issues_onlinelearningdifficulties\n",
      "Quality of Material_onlinelearningdifficulties\n",
      "Accessibility_onlinelearningdifficulties\n",
      "Adaptability_onlinelearningdifficulties\n",
      "Focus/Commitment_onlinelearningdifficulties\n",
      "Self-Motivation_onlinelearningdifficulties\n",
      "Cost_onlinelearningdifficulties\n",
      "Health Issues_onlinelearningdifficulties\n",
      "Engagement_onlinelearningdifficulties\n",
      "youtube\n",
      "live\n",
      "recorded\n",
      "others\n"
     ]
    }
   ],
   "source": [
    "for i in X2.columns.to_list():\n",
    "  print(i)"
   ]
  },
  {
   "cell_type": "code",
   "execution_count": 46,
   "metadata": {},
   "outputs": [],
   "source": [
    "X2_train, X2_test, y2_train, y2_test = train_test_split(X2, y2, test_size=0.2, random_state=2023)"
   ]
  },
  {
   "cell_type": "code",
   "execution_count": 47,
   "metadata": {},
   "outputs": [],
   "source": [
    "gbc2, gbc_pred2 = GBC(X2_train, y2_train, X2_test, 0.15)\n",
    "gnb2, gnb_pred2 = GNB(X2_train, y2_train, X2_test)\n",
    "svm2, svm_pred2 = SVM(X2_train, y2_train, X2_test)\n",
    "rfc2, rfc_pred2 = RFC(X2_train, y2_train, X2_test)\n",
    "lr2, lr_pred2 = LR(X2_train, y2_train, X2_test)\n",
    "xgb2, xgb_pred2 = XGB(X2_train, y2_train, X2_test)"
   ]
  },
  {
   "cell_type": "code",
   "execution_count": 48,
   "metadata": {},
   "outputs": [
    {
     "name": "stdout",
     "output_type": "stream",
     "text": [
      "Hamming Loss of GBC2: 0.23232323232323232\n",
      "Hamming Loss of GNB2: 0.5165945165945166\n",
      "Hamming Loss of SVM2: 0.2481962481962482\n",
      "Hamming Loss of RFC2: 0.21933621933621933\n",
      "Hamming Loss of LR2: 0.2611832611832612\n",
      "Hamming Loss of XGB2: 0.23665223665223664\n"
     ]
    }
   ],
   "source": [
    "print(\"Hamming Loss of GBC2:\", hamming_loss(y2_test, gbc_pred2))\n",
    "print(\"Hamming Loss of GNB2:\", hamming_loss(y2_test, gnb_pred2))\n",
    "print(\"Hamming Loss of SVM2:\", hamming_loss(y2_test, svm_pred2))\n",
    "print(\"Hamming Loss of RFC2:\", hamming_loss(y2_test, rfc_pred2))\n",
    "print(\"Hamming Loss of LR2:\", hamming_loss(y2_test, lr_pred2))\n",
    "print(\"Hamming Loss of XGB2:\", hamming_loss(y2_test, xgb_pred2))"
   ]
  },
  {
   "cell_type": "code",
   "execution_count": 49,
   "metadata": {},
   "outputs": [
    {
     "name": "stdout",
     "output_type": "stream",
     "text": [
      "ROC AUC Score of GBC2: 0.47148233021866925\n",
      "ROC AUC Score of GNB2: 0.4613315348698864\n",
      "ROC AUC Score of SVM2: 0.47288567420977806\n",
      "ROC AUC Score of RFC2: 0.47140760032740875\n",
      "ROC AUC Score of LR2: 0.4892982987620815\n",
      "ROC AUC Score of XGB2: 0.4812500261812777\n"
     ]
    }
   ],
   "source": [
    "print(\"ROC AUC Score of GBC2:\", roc_auc_score(y_test, gbc_pred2))\n",
    "print(\"ROC AUC Score of GNB2:\", roc_auc_score(y_test, gnb_pred2))\n",
    "print(\"ROC AUC Score of SVM2:\", roc_auc_score(y_test, svm_pred2))\n",
    "print(\"ROC AUC Score of RFC2:\", roc_auc_score(y_test, rfc_pred2))\n",
    "print(\"ROC AUC Score of LR2:\", roc_auc_score(y_test, lr_pred2))\n",
    "print(\"ROC AUC Score of XGB2:\", roc_auc_score(y_test, xgb_pred2))\n"
   ]
  },
  {
   "cell_type": "code",
   "execution_count": 50,
   "metadata": {},
   "outputs": [
    {
     "name": "stdout",
     "output_type": "stream",
     "text": [
      "              precision    recall  f1-score   support\n",
      "\n",
      "           0       0.75      0.79      0.77        38\n",
      "           1       0.66      0.84      0.74        32\n",
      "           2       0.69      0.75      0.72        36\n",
      "           3       0.84      0.84      0.84        50\n",
      "           4       0.82      0.93      0.87        44\n",
      "           5       0.93      0.95      0.94        56\n",
      "           6       0.67      0.67      0.67        39\n",
      "           7       0.90      0.98      0.94        55\n",
      "           8       0.83      0.83      0.83        48\n",
      "           9       0.91      0.98      0.94        51\n",
      "          10       0.77      0.84      0.81        32\n",
      "\n",
      "   micro avg       0.81      0.87      0.84       481\n",
      "   macro avg       0.80      0.86      0.82       481\n",
      "weighted avg       0.81      0.87      0.84       481\n",
      " samples avg       0.79      0.82      0.78       481\n",
      "\n"
     ]
    },
    {
     "name": "stderr",
     "output_type": "stream",
     "text": [
      "c:\\Users\\limzh\\anaconda3\\lib\\site-packages\\sklearn\\metrics\\_classification.py:1344: UndefinedMetricWarning: Recall and F-score are ill-defined and being set to 0.0 in samples with no true labels. Use `zero_division` parameter to control this behavior.\n",
      "  _warn_prf(average, modifier, msg_start, len(result))\n"
     ]
    }
   ],
   "source": [
    "print(classification_report(y2_test, gbc_pred2))"
   ]
  },
  {
   "cell_type": "code",
   "execution_count": 51,
   "metadata": {},
   "outputs": [
    {
     "name": "stdout",
     "output_type": "stream",
     "text": [
      "              precision    recall  f1-score   support\n",
      "\n",
      "           0       0.86      0.66      0.75        38\n",
      "           1       0.95      0.59      0.73        32\n",
      "           2       0.75      0.50      0.60        36\n",
      "           3       1.00      0.06      0.11        50\n",
      "           4       1.00      0.05      0.09        44\n",
      "           5       1.00      0.07      0.13        56\n",
      "           6       0.67      0.85      0.75        39\n",
      "           7       1.00      0.05      0.10        55\n",
      "           8       0.90      0.56      0.69        48\n",
      "           9       1.00      0.08      0.15        51\n",
      "          10       0.67      0.94      0.78        32\n",
      "\n",
      "   micro avg       0.79      0.35      0.48       481\n",
      "   macro avg       0.89      0.40      0.44       481\n",
      "weighted avg       0.91      0.35      0.40       481\n",
      " samples avg       0.56      0.29      0.36       481\n",
      "\n"
     ]
    },
    {
     "name": "stderr",
     "output_type": "stream",
     "text": [
      "c:\\Users\\limzh\\anaconda3\\lib\\site-packages\\sklearn\\metrics\\_classification.py:1344: UndefinedMetricWarning: Precision and F-score are ill-defined and being set to 0.0 in samples with no predicted labels. Use `zero_division` parameter to control this behavior.\n",
      "  _warn_prf(average, modifier, msg_start, len(result))\n",
      "c:\\Users\\limzh\\anaconda3\\lib\\site-packages\\sklearn\\metrics\\_classification.py:1344: UndefinedMetricWarning: Recall and F-score are ill-defined and being set to 0.0 in samples with no true labels. Use `zero_division` parameter to control this behavior.\n",
      "  _warn_prf(average, modifier, msg_start, len(result))\n"
     ]
    }
   ],
   "source": [
    "print(classification_report(y2_test, gnb_pred2))"
   ]
  },
  {
   "cell_type": "code",
   "execution_count": 52,
   "metadata": {},
   "outputs": [
    {
     "name": "stdout",
     "output_type": "stream",
     "text": [
      "              precision    recall  f1-score   support\n",
      "\n",
      "           0       0.73      0.79      0.76        38\n",
      "           1       0.72      0.88      0.79        32\n",
      "           2       0.68      0.75      0.71        36\n",
      "           3       0.80      0.94      0.86        50\n",
      "           4       0.72      0.93      0.81        44\n",
      "           5       0.90      1.00      0.95        56\n",
      "           6       0.68      0.72      0.70        39\n",
      "           7       0.87      1.00      0.93        55\n",
      "           8       0.82      0.85      0.84        48\n",
      "           9       0.83      0.98      0.90        51\n",
      "          10       0.68      0.88      0.77        32\n",
      "\n",
      "   micro avg       0.78      0.90      0.83       481\n",
      "   macro avg       0.77      0.88      0.82       481\n",
      "weighted avg       0.78      0.90      0.83       481\n",
      " samples avg       0.75      0.86      0.78       481\n",
      "\n"
     ]
    },
    {
     "name": "stderr",
     "output_type": "stream",
     "text": [
      "c:\\Users\\limzh\\anaconda3\\lib\\site-packages\\sklearn\\metrics\\_classification.py:1344: UndefinedMetricWarning: Recall and F-score are ill-defined and being set to 0.0 in samples with no true labels. Use `zero_division` parameter to control this behavior.\n",
      "  _warn_prf(average, modifier, msg_start, len(result))\n"
     ]
    }
   ],
   "source": [
    "print(classification_report(y2_test, svm_pred2))"
   ]
  },
  {
   "cell_type": "code",
   "execution_count": 53,
   "metadata": {},
   "outputs": [
    {
     "name": "stdout",
     "output_type": "stream",
     "text": [
      "              precision    recall  f1-score   support\n",
      "\n",
      "           0       0.70      0.79      0.74        38\n",
      "           1       0.70      0.88      0.78        32\n",
      "           2       0.74      0.78      0.76        36\n",
      "           3       0.84      0.92      0.88        50\n",
      "           4       0.78      0.95      0.86        44\n",
      "           5       0.92      1.00      0.96        56\n",
      "           6       0.70      0.72      0.71        39\n",
      "           7       0.90      1.00      0.95        55\n",
      "           8       0.84      0.85      0.85        48\n",
      "           9       0.89      0.98      0.93        51\n",
      "          10       0.74      0.88      0.80        32\n",
      "\n",
      "   micro avg       0.81      0.90      0.85       481\n",
      "   macro avg       0.79      0.89      0.84       481\n",
      "weighted avg       0.81      0.90      0.85       481\n",
      " samples avg       0.80      0.87      0.80       481\n",
      "\n"
     ]
    },
    {
     "name": "stderr",
     "output_type": "stream",
     "text": [
      "c:\\Users\\limzh\\anaconda3\\lib\\site-packages\\sklearn\\metrics\\_classification.py:1344: UndefinedMetricWarning: Recall and F-score are ill-defined and being set to 0.0 in samples with no true labels. Use `zero_division` parameter to control this behavior.\n",
      "  _warn_prf(average, modifier, msg_start, len(result))\n"
     ]
    }
   ],
   "source": [
    "print(classification_report(y2_test, rfc_pred2))"
   ]
  },
  {
   "cell_type": "code",
   "execution_count": 54,
   "metadata": {},
   "outputs": [
    {
     "name": "stdout",
     "output_type": "stream",
     "text": [
      "              precision    recall  f1-score   support\n",
      "\n",
      "           0       0.74      0.76      0.75        38\n",
      "           1       0.67      0.69      0.68        32\n",
      "           2       0.71      0.61      0.66        36\n",
      "           3       0.88      0.84      0.86        50\n",
      "           4       0.81      0.89      0.85        44\n",
      "           5       0.89      0.91      0.90        56\n",
      "           6       0.69      0.69      0.69        39\n",
      "           7       0.90      0.95      0.92        55\n",
      "           8       0.85      0.83      0.84        48\n",
      "           9       0.88      0.90      0.89        51\n",
      "          10       0.67      0.75      0.71        32\n",
      "\n",
      "   micro avg       0.81      0.82      0.81       481\n",
      "   macro avg       0.79      0.80      0.80       481\n",
      "weighted avg       0.81      0.82      0.81       481\n",
      " samples avg       0.78      0.79      0.76       481\n",
      "\n"
     ]
    },
    {
     "name": "stderr",
     "output_type": "stream",
     "text": [
      "c:\\Users\\limzh\\anaconda3\\lib\\site-packages\\sklearn\\metrics\\_classification.py:1344: UndefinedMetricWarning: Recall and F-score are ill-defined and being set to 0.0 in samples with no true labels. Use `zero_division` parameter to control this behavior.\n",
      "  _warn_prf(average, modifier, msg_start, len(result))\n"
     ]
    }
   ],
   "source": [
    "print(classification_report(y2_test, lr_pred2))"
   ]
  },
  {
   "cell_type": "code",
   "execution_count": 55,
   "metadata": {},
   "outputs": [
    {
     "name": "stdout",
     "output_type": "stream",
     "text": [
      "              precision    recall  f1-score   support\n",
      "\n",
      "           0       0.77      0.89      0.83        38\n",
      "           1       0.68      0.81      0.74        32\n",
      "           2       0.71      0.75      0.73        36\n",
      "           3       0.80      0.88      0.84        50\n",
      "           4       0.78      0.89      0.83        44\n",
      "           5       0.89      0.91      0.90        56\n",
      "           6       0.71      0.77      0.74        39\n",
      "           7       0.90      0.98      0.94        55\n",
      "           8       0.87      0.81      0.84        48\n",
      "           9       0.89      0.94      0.91        51\n",
      "          10       0.74      0.78      0.76        32\n",
      "\n",
      "   micro avg       0.81      0.87      0.84       481\n",
      "   macro avg       0.80      0.86      0.82       481\n",
      "weighted avg       0.81      0.87      0.84       481\n",
      " samples avg       0.77      0.83      0.78       481\n",
      "\n"
     ]
    },
    {
     "name": "stderr",
     "output_type": "stream",
     "text": [
      "c:\\Users\\limzh\\anaconda3\\lib\\site-packages\\sklearn\\metrics\\_classification.py:1344: UndefinedMetricWarning: Precision and F-score are ill-defined and being set to 0.0 in samples with no predicted labels. Use `zero_division` parameter to control this behavior.\n",
      "  _warn_prf(average, modifier, msg_start, len(result))\n",
      "c:\\Users\\limzh\\anaconda3\\lib\\site-packages\\sklearn\\metrics\\_classification.py:1344: UndefinedMetricWarning: Recall and F-score are ill-defined and being set to 0.0 in samples with no true labels. Use `zero_division` parameter to control this behavior.\n",
      "  _warn_prf(average, modifier, msg_start, len(result))\n"
     ]
    }
   ],
   "source": [
    "print(classification_report(y2_test, xgb_pred2))"
   ]
  },
  {
   "cell_type": "code",
   "execution_count": 56,
   "metadata": {},
   "outputs": [
    {
     "name": "stdout",
     "output_type": "stream",
     "text": [
      "Accuracy of GBC2: 0.25396825396825395\n",
      "Accuracy of GNB2: 0.031746031746031744\n",
      "Accuracy of SVM2: 0.19047619047619047\n",
      "Accuracy of RFC2: 0.30158730158730157\n",
      "Accuracy of LR2: 0.12698412698412698\n",
      "Accuracy of XGB2: 0.2222222222222222\n"
     ]
    }
   ],
   "source": [
    "print(\"Accuracy of GBC2:\", accuracy_score(y2_test, gbc_pred2))\n",
    "print(\"Accuracy of GNB2:\", accuracy_score(y2_test, gnb_pred2))\n",
    "print(\"Accuracy of SVM2:\", accuracy_score(y2_test, svm_pred2))\n",
    "print(\"Accuracy of RFC2:\", accuracy_score(y2_test, rfc_pred2))\n",
    "print(\"Accuracy of LR2:\", accuracy_score(y2_test, lr_pred2))\n",
    "print(\"Accuracy of XGB2:\", accuracy_score(y2_test, xgb_pred2))"
   ]
  },
  {
   "cell_type": "code",
   "execution_count": 57,
   "metadata": {},
   "outputs": [],
   "source": [
    "y2_test_df = pd.DataFrame(y2_test)"
   ]
  },
  {
   "cell_type": "code",
   "execution_count": 58,
   "metadata": {},
   "outputs": [
    {
     "name": "stdout",
     "output_type": "stream",
     "text": [
      "Standard Deviation of Accuracies: 0.13225326680969235\n",
      "Standard Deviation of Accuracies: 0.1389483765334571\n",
      "Standard Deviation of Accuracies: 0.16678999453737245\n",
      "Standard Deviation of Accuracies: 0.15138453794405074\n",
      "Standard Deviation of Accuracies: 0.13190643442454764\n",
      "Standard Deviation of Accuracies: 0.12882374672822883\n"
     ]
    }
   ],
   "source": [
    "accuracy_std(gbc_pred2)\n",
    "accuracy_std(gnb_pred2)\n",
    "accuracy_std(svm_pred2)\n",
    "accuracy_std(rfc_pred2)\n",
    "accuracy_std(lr_pred2)\n",
    "accuracy_std(xgb_pred2)"
   ]
  },
  {
   "cell_type": "markdown",
   "metadata": {},
   "source": [
    "## Cross Validation with GBC2, RFC2, and XGB2"
   ]
  },
  {
   "cell_type": "code",
   "execution_count": 60,
   "metadata": {},
   "outputs": [],
   "source": [
    "metrics = [\"roc_auc\", \"f1_macro\", \"precision_macro\", \"recall_macro\", \"accuracy\"]\n",
    "gbc2_scores = cross_validate(gbc2, X, y, cv=5, scoring=metrics)\n",
    "rfc2_scores = cross_validate(rfc2, X, y, cv=5, scoring=metrics)\n",
    "xgb2_scores = cross_validate(xgb2, X, y, cv=5, scoring=metrics)"
   ]
  },
  {
   "cell_type": "code",
   "execution_count": 61,
   "metadata": {},
   "outputs": [],
   "source": [
    "def visualize_score(score, title):\n",
    "  i = list(range(5))\n",
    "  plt.bar(i, score)\n",
    "  plt.title(title)\n",
    "  plt.show()"
   ]
  },
  {
   "cell_type": "code",
   "execution_count": 62,
   "metadata": {},
   "outputs": [
    {
     "data": {
      "text/plain": [
       "{'fit_time': array([2.54057741, 2.25476527, 2.15289307, 2.15928364, 2.2688961 ]),\n",
       " 'score_time': array([0.07419372, 0.06500125, 0.09989262, 0.06797004, 0.06500053]),\n",
       " 'test_roc_auc': array([0.69251792, 0.79686244, 0.77205632, 0.74408015, 0.70791727]),\n",
       " 'test_f1_macro': array([0.77541468, 0.80909252, 0.78971127, 0.82371696, 0.72935352]),\n",
       " 'test_precision_macro': array([0.73673617, 0.77086238, 0.78209215, 0.78247949, 0.72948582]),\n",
       " 'test_recall_macro': array([0.82104123, 0.85573974, 0.80284755, 0.87162338, 0.73513237]),\n",
       " 'test_accuracy': array([0.12698413, 0.22222222, 0.20634921, 0.20634921, 0.08064516])}"
      ]
     },
     "execution_count": 62,
     "metadata": {},
     "output_type": "execute_result"
    }
   ],
   "source": [
    "gbc2_scores"
   ]
  },
  {
   "cell_type": "code",
   "execution_count": 63,
   "metadata": {},
   "outputs": [
    {
     "data": {
      "image/png": "[encoded data removed]",
      "text/plain": [
       "<Figure size 432x288 with 1 Axes>"
      ]
     },
     "metadata": {
      "needs_background": "light"
     },
     "output_type": "display_data"
    },
    {
     "data": {
      "image/png": "[encoded data removed]",
      "text/plain": [
       "<Figure size 432x288 with 1 Axes>"
      ]
     },
     "metadata": {
      "needs_background": "light"
     },
     "output_type": "display_data"
    },
    {
     "data": {
      "image/png": "[encoded data removed]",
      "text/plain": [
       "<Figure size 432x288 with 1 Axes>"
      ]
     },
     "metadata": {
      "needs_background": "light"
     },
     "output_type": "display_data"
    },
    {
     "data": {
      "image/png": "[encoded data removed]",
      "text/plain": [
       "<Figure size 432x288 with 1 Axes>"
      ]
     },
     "metadata": {
      "needs_background": "light"
     },
     "output_type": "display_data"
    },
    {
     "data": {
      "image/png": "[encoded data removed]",
      "text/plain": [
       "<Figure size 432x288 with 1 Axes>"
      ]
     },
     "metadata": {
      "needs_background": "light"
     },
     "output_type": "display_data"
    }
   ],
   "source": [
    "visualize_score(gbc2_scores[\"test_roc_auc\"], \"ROC AUC\")\n",
    "visualize_score(gbc2_scores[\"test_f1_macro\"], \"F1 MACRO\")\n",
    "visualize_score(gbc2_scores[\"test_precision_macro\"], \"PRECISION MACRO\")\n",
    "visualize_score(gbc2_scores[\"test_recall_macro\"], \"RECALL MACRO\")\n",
    "visualize_score(gbc2_scores[\"test_accuracy\"], \"ACCURACY\")"
   ]
  },
  {
   "cell_type": "code",
   "execution_count": 64,
   "metadata": {},
   "outputs": [
    {
     "data": {
      "text/plain": [
       "{'fit_time': array([1.80812979, 1.78157163, 1.74396396, 1.78307796, 1.78482795]),\n",
       " 'score_time': array([0.25887537, 0.26013947, 0.26398396, 0.3195796 , 0.25437546]),\n",
       " 'test_roc_auc': array([0.73335801, 0.82512335, 0.82624929, 0.799711  , 0.73523143]),\n",
       " 'test_f1_macro': array([0.78496268, 0.83674672, 0.80995447, 0.8337291 , 0.72166297]),\n",
       " 'test_precision_macro': array([0.72428814, 0.78093439, 0.78898483, 0.77124677, 0.71976393]),\n",
       " 'test_recall_macro': array([0.86354027, 0.90382138, 0.83959349, 0.91019839, 0.73234167]),\n",
       " 'test_accuracy': array([0.17460317, 0.31746032, 0.25396825, 0.25396825, 0.08064516])}"
      ]
     },
     "execution_count": 64,
     "metadata": {},
     "output_type": "execute_result"
    }
   ],
   "source": [
    "rfc2_scores"
   ]
  },
  {
   "cell_type": "code",
   "execution_count": 65,
   "metadata": {},
   "outputs": [
    {
     "data": {
      "image/png": "[encoded data removed]",
      "text/plain": [
       "<Figure size 432x288 with 1 Axes>"
      ]
     },
     "metadata": {
      "needs_background": "light"
     },
     "output_type": "display_data"
    },
    {
     "data": {
      "image/png": "[encoded data removed]",
      "text/plain": [
       "<Figure size 432x288 with 1 Axes>"
      ]
     },
     "metadata": {
      "needs_background": "light"
     },
     "output_type": "display_data"
    },
    {
     "data": {
      "image/png": "[encoded data removed]",
      "text/plain": [
       "<Figure size 432x288 with 1 Axes>"
      ]
     },
     "metadata": {
      "needs_background": "light"
     },
     "output_type": "display_data"
    },
    {
     "data": {
      "image/png": "[encoded data removed]",
      "text/plain": [
       "<Figure size 432x288 with 1 Axes>"
      ]
     },
     "metadata": {
      "needs_background": "light"
     },
     "output_type": "display_data"
    },
    {
     "data": {
      "image/png": "[encoded data removed]",
      "text/plain": [
       "<Figure size 432x288 with 1 Axes>"
      ]
     },
     "metadata": {
      "needs_background": "light"
     },
     "output_type": "display_data"
    }
   ],
   "source": [
    "visualize_score(rfc2_scores[\"test_roc_auc\"], \"ROC AUC\")\n",
    "visualize_score(rfc2_scores[\"test_f1_macro\"], \"F1 MACRO\")\n",
    "visualize_score(rfc2_scores[\"test_precision_macro\"], \"PRECISION MACRO\")\n",
    "visualize_score(rfc2_scores[\"test_recall_macro\"], \"RECALL MACRO\")\n",
    "visualize_score(rfc2_scores[\"test_accuracy\"], \"ACCURACY\")"
   ]
  },
  {
   "cell_type": "code",
   "execution_count": 66,
   "metadata": {},
   "outputs": [
    {
     "data": {
      "text/plain": [
       "{'fit_time': array([2.75174618, 2.56796932, 2.54384494, 2.57115555, 2.54917693]),\n",
       " 'score_time': array([0.94799876, 0.9449451 , 0.94073749, 0.94034171, 0.94760728]),\n",
       " 'test_roc_auc': array([0.7235932 , 0.81230666, 0.7941492 , 0.74857846, 0.70657076]),\n",
       " 'test_f1_macro': array([0.77757399, 0.80155813, 0.80532999, 0.82359897, 0.73437875]),\n",
       " 'test_precision_macro': array([0.73662509, 0.76343549, 0.78783439, 0.77576538, 0.72935031]),\n",
       " 'test_recall_macro': array([0.82822724, 0.8496074 , 0.83126779, 0.8801319 , 0.74325441]),\n",
       " 'test_accuracy': array([0.12698413, 0.28571429, 0.22222222, 0.22222222, 0.08064516])}"
      ]
     },
     "execution_count": 66,
     "metadata": {},
     "output_type": "execute_result"
    }
   ],
   "source": [
    "xgb2_scores"
   ]
  },
  {
   "cell_type": "code",
   "execution_count": 67,
   "metadata": {},
   "outputs": [
    {
     "data": {
      "image/png": "[encoded data removed]",
      "text/plain": [
       "<Figure size 432x288 with 1 Axes>"
      ]
     },
     "metadata": {
      "needs_background": "light"
     },
     "output_type": "display_data"
    },
    {
     "data": {
      "image/png": "[encoded data removed]",
      "text/plain": [
       "<Figure size 432x288 with 1 Axes>"
      ]
     },
     "metadata": {
      "needs_background": "light"
     },
     "output_type": "display_data"
    },
    {
     "data": {
      "image/png": "[encoded data removed]",
      "text/plain": [
       "<Figure size 432x288 with 1 Axes>"
      ]
     },
     "metadata": {
      "needs_background": "light"
     },
     "output_type": "display_data"
    },
    {
     "data": {
      "image/png": "[encoded data removed]",
      "text/plain": [
       "<Figure size 432x288 with 1 Axes>"
      ]
     },
     "metadata": {
      "needs_background": "light"
     },
     "output_type": "display_data"
    },
    {
     "data": {
      "image/png": "[encoded data removed]",
      "text/plain": [
       "<Figure size 432x288 with 1 Axes>"
      ]
     },
     "metadata": {
      "needs_background": "light"
     },
     "output_type": "display_data"
    }
   ],
   "source": [
    "visualize_score(xgb2_scores[\"test_roc_auc\"], \"ROC AUC\")\n",
    "visualize_score(xgb2_scores[\"test_f1_macro\"], \"F1 MACRO\")\n",
    "visualize_score(xgb2_scores[\"test_precision_macro\"], \"PRECISION MACRO\")\n",
    "visualize_score(xgb2_scores[\"test_recall_macro\"], \"RECALL MACRO\")\n",
    "visualize_score(xgb2_scores[\"test_accuracy\"], \"ACCURACY\")"
   ]
  },
  {
   "cell_type": "markdown",
   "metadata": {},
   "source": [
    "## Confusion Matrices of GBC2, RFC2, and XGB2"
   ]
  },
  {
   "cell_type": "code",
   "execution_count": 68,
   "metadata": {},
   "outputs": [],
   "source": [
    "def disp_multilabel_cm(pred, x, y):\n",
    "  fig, ax = plt.subplots(x, y, figsize=(25, 15))\n",
    "  ax = ax.ravel()\n",
    "  for i in range(x*y):\n",
    "    disp = ConfusionMatrixDisplay(confusion_matrix(y_test.iloc[:, i], pred[:, i]))\n",
    "    disp.plot(ax=ax[i])\n",
    "    disp.ax_.set_title(f\"Class {i}\")\n",
    "    if i < 8:\n",
    "        disp.ax_.set_xlabel('')\n",
    "    if i % 4 != 0:\n",
    "        disp.ax_.set_ylabel('')\n",
    "  plt.subplots_adjust(wspace=0.1, hspace=0.1)\n",
    "  plt.show()"
   ]
  },
  {
   "cell_type": "code",
   "execution_count": 69,
   "metadata": {},
   "outputs": [
    {
     "ename": "IndexError",
     "evalue": "single positional indexer is out-of-bounds",
     "output_type": "error",
     "traceback": [
      "\u001b[1;31m---------------------------------------------------------------------------\u001b[0m",
      "\u001b[1;31mIndexError\u001b[0m                                Traceback (most recent call last)",
      "Input \u001b[1;32mIn [69]\u001b[0m, in \u001b[0;36m<cell line: 1>\u001b[1;34m()\u001b[0m\n\u001b[1;32m----> 1\u001b[0m \u001b[43mdisp_multilabel_cm\u001b[49m\u001b[43m(\u001b[49m\u001b[43mgbc_pred2\u001b[49m\u001b[43m,\u001b[49m\u001b[43m \u001b[49m\u001b[38;5;241;43m3\u001b[39;49m\u001b[43m,\u001b[49m\u001b[43m \u001b[49m\u001b[38;5;241;43m4\u001b[39;49m\u001b[43m)\u001b[49m\n",
      "Input \u001b[1;32mIn [68]\u001b[0m, in \u001b[0;36mdisp_multilabel_cm\u001b[1;34m(pred, x, y)\u001b[0m\n\u001b[0;32m      3\u001b[0m ax \u001b[38;5;241m=\u001b[39m ax\u001b[38;5;241m.\u001b[39mravel()\n\u001b[0;32m      4\u001b[0m \u001b[38;5;28;01mfor\u001b[39;00m i \u001b[38;5;129;01min\u001b[39;00m \u001b[38;5;28mrange\u001b[39m(x\u001b[38;5;241m*\u001b[39my):\n\u001b[1;32m----> 5\u001b[0m   disp \u001b[38;5;241m=\u001b[39m ConfusionMatrixDisplay(confusion_matrix(\u001b[43my_test\u001b[49m\u001b[38;5;241;43m.\u001b[39;49m\u001b[43miloc\u001b[49m\u001b[43m[\u001b[49m\u001b[43m:\u001b[49m\u001b[43m,\u001b[49m\u001b[43m \u001b[49m\u001b[43mi\u001b[49m\u001b[43m]\u001b[49m, pred[:, i]))\n\u001b[0;32m      6\u001b[0m   disp\u001b[38;5;241m.\u001b[39mplot(ax\u001b[38;5;241m=\u001b[39max[i])\n\u001b[0;32m      7\u001b[0m   disp\u001b[38;5;241m.\u001b[39max_\u001b[38;5;241m.\u001b[39mset_title(\u001b[38;5;124mf\u001b[39m\u001b[38;5;124m\"\u001b[39m\u001b[38;5;124mClass \u001b[39m\u001b[38;5;132;01m{\u001b[39;00mi\u001b[38;5;132;01m}\u001b[39;00m\u001b[38;5;124m\"\u001b[39m)\n",
      "File \u001b[1;32mc:\\Users\\limzh\\anaconda3\\lib\\site-packages\\pandas\\core\\indexing.py:1067\u001b[0m, in \u001b[0;36m_LocationIndexer.__getitem__\u001b[1;34m(self, key)\u001b[0m\n\u001b[0;32m   1065\u001b[0m     \u001b[38;5;28;01mif\u001b[39;00m \u001b[38;5;28mself\u001b[39m\u001b[38;5;241m.\u001b[39m_is_scalar_access(key):\n\u001b[0;32m   1066\u001b[0m         \u001b[38;5;28;01mreturn\u001b[39;00m \u001b[38;5;28mself\u001b[39m\u001b[38;5;241m.\u001b[39mobj\u001b[38;5;241m.\u001b[39m_get_value(\u001b[38;5;241m*\u001b[39mkey, takeable\u001b[38;5;241m=\u001b[39m\u001b[38;5;28mself\u001b[39m\u001b[38;5;241m.\u001b[39m_takeable)\n\u001b[1;32m-> 1067\u001b[0m     \u001b[38;5;28;01mreturn\u001b[39;00m \u001b[38;5;28;43mself\u001b[39;49m\u001b[38;5;241;43m.\u001b[39;49m\u001b[43m_getitem_tuple\u001b[49m\u001b[43m(\u001b[49m\u001b[43mkey\u001b[49m\u001b[43m)\u001b[49m\n\u001b[0;32m   1068\u001b[0m \u001b[38;5;28;01melse\u001b[39;00m:\n\u001b[0;32m   1069\u001b[0m     \u001b[38;5;66;03m# we by definition only have the 0th axis\u001b[39;00m\n\u001b[0;32m   1070\u001b[0m     axis \u001b[38;5;241m=\u001b[39m \u001b[38;5;28mself\u001b[39m\u001b[38;5;241m.\u001b[39maxis \u001b[38;5;129;01mor\u001b[39;00m \u001b[38;5;241m0\u001b[39m\n",
      "File \u001b[1;32mc:\\Users\\limzh\\anaconda3\\lib\\site-packages\\pandas\\core\\indexing.py:1563\u001b[0m, in \u001b[0;36m_iLocIndexer._getitem_tuple\u001b[1;34m(self, tup)\u001b[0m\n\u001b[0;32m   1561\u001b[0m \u001b[38;5;28;01mdef\u001b[39;00m \u001b[38;5;21m_getitem_tuple\u001b[39m(\u001b[38;5;28mself\u001b[39m, tup: \u001b[38;5;28mtuple\u001b[39m):\n\u001b[1;32m-> 1563\u001b[0m     tup \u001b[38;5;241m=\u001b[39m \u001b[38;5;28;43mself\u001b[39;49m\u001b[38;5;241;43m.\u001b[39;49m\u001b[43m_validate_tuple_indexer\u001b[49m\u001b[43m(\u001b[49m\u001b[43mtup\u001b[49m\u001b[43m)\u001b[49m\n\u001b[0;32m   1564\u001b[0m     \u001b[38;5;28;01mwith\u001b[39;00m suppress(IndexingError):\n\u001b[0;32m   1565\u001b[0m         \u001b[38;5;28;01mreturn\u001b[39;00m \u001b[38;5;28mself\u001b[39m\u001b[38;5;241m.\u001b[39m_getitem_lowerdim(tup)\n",
      "File \u001b[1;32mc:\\Users\\limzh\\anaconda3\\lib\\site-packages\\pandas\\core\\indexing.py:873\u001b[0m, in \u001b[0;36m_LocationIndexer._validate_tuple_indexer\u001b[1;34m(self, key)\u001b[0m\n\u001b[0;32m    871\u001b[0m \u001b[38;5;28;01mfor\u001b[39;00m i, k \u001b[38;5;129;01min\u001b[39;00m \u001b[38;5;28menumerate\u001b[39m(key):\n\u001b[0;32m    872\u001b[0m     \u001b[38;5;28;01mtry\u001b[39;00m:\n\u001b[1;32m--> 873\u001b[0m         \u001b[38;5;28;43mself\u001b[39;49m\u001b[38;5;241;43m.\u001b[39;49m\u001b[43m_validate_key\u001b[49m\u001b[43m(\u001b[49m\u001b[43mk\u001b[49m\u001b[43m,\u001b[49m\u001b[43m \u001b[49m\u001b[43mi\u001b[49m\u001b[43m)\u001b[49m\n\u001b[0;32m    874\u001b[0m     \u001b[38;5;28;01mexcept\u001b[39;00m \u001b[38;5;167;01mValueError\u001b[39;00m \u001b[38;5;28;01mas\u001b[39;00m err:\n\u001b[0;32m    875\u001b[0m         \u001b[38;5;28;01mraise\u001b[39;00m \u001b[38;5;167;01mValueError\u001b[39;00m(\n\u001b[0;32m    876\u001b[0m             \u001b[38;5;124m\"\u001b[39m\u001b[38;5;124mLocation based indexing can only have \u001b[39m\u001b[38;5;124m\"\u001b[39m\n\u001b[0;32m    877\u001b[0m             \u001b[38;5;124mf\u001b[39m\u001b[38;5;124m\"\u001b[39m\u001b[38;5;124m[\u001b[39m\u001b[38;5;132;01m{\u001b[39;00m\u001b[38;5;28mself\u001b[39m\u001b[38;5;241m.\u001b[39m_valid_types\u001b[38;5;132;01m}\u001b[39;00m\u001b[38;5;124m] types\u001b[39m\u001b[38;5;124m\"\u001b[39m\n\u001b[0;32m    878\u001b[0m         ) \u001b[38;5;28;01mfrom\u001b[39;00m \u001b[38;5;21;01merr\u001b[39;00m\n",
      "File \u001b[1;32mc:\\Users\\limzh\\anaconda3\\lib\\site-packages\\pandas\\core\\indexing.py:1466\u001b[0m, in \u001b[0;36m_iLocIndexer._validate_key\u001b[1;34m(self, key, axis)\u001b[0m\n\u001b[0;32m   1464\u001b[0m     \u001b[38;5;28;01mreturn\u001b[39;00m\n\u001b[0;32m   1465\u001b[0m \u001b[38;5;28;01melif\u001b[39;00m is_integer(key):\n\u001b[1;32m-> 1466\u001b[0m     \u001b[38;5;28;43mself\u001b[39;49m\u001b[38;5;241;43m.\u001b[39;49m\u001b[43m_validate_integer\u001b[49m\u001b[43m(\u001b[49m\u001b[43mkey\u001b[49m\u001b[43m,\u001b[49m\u001b[43m \u001b[49m\u001b[43maxis\u001b[49m\u001b[43m)\u001b[49m\n\u001b[0;32m   1467\u001b[0m \u001b[38;5;28;01melif\u001b[39;00m \u001b[38;5;28misinstance\u001b[39m(key, \u001b[38;5;28mtuple\u001b[39m):\n\u001b[0;32m   1468\u001b[0m     \u001b[38;5;66;03m# a tuple should already have been caught by this point\u001b[39;00m\n\u001b[0;32m   1469\u001b[0m     \u001b[38;5;66;03m# so don't treat a tuple as a valid indexer\u001b[39;00m\n\u001b[0;32m   1470\u001b[0m     \u001b[38;5;28;01mraise\u001b[39;00m IndexingError(\u001b[38;5;124m\"\u001b[39m\u001b[38;5;124mToo many indexers\u001b[39m\u001b[38;5;124m\"\u001b[39m)\n",
      "File \u001b[1;32mc:\\Users\\limzh\\anaconda3\\lib\\site-packages\\pandas\\core\\indexing.py:1557\u001b[0m, in \u001b[0;36m_iLocIndexer._validate_integer\u001b[1;34m(self, key, axis)\u001b[0m\n\u001b[0;32m   1555\u001b[0m len_axis \u001b[38;5;241m=\u001b[39m \u001b[38;5;28mlen\u001b[39m(\u001b[38;5;28mself\u001b[39m\u001b[38;5;241m.\u001b[39mobj\u001b[38;5;241m.\u001b[39m_get_axis(axis))\n\u001b[0;32m   1556\u001b[0m \u001b[38;5;28;01mif\u001b[39;00m key \u001b[38;5;241m>\u001b[39m\u001b[38;5;241m=\u001b[39m len_axis \u001b[38;5;129;01mor\u001b[39;00m key \u001b[38;5;241m<\u001b[39m \u001b[38;5;241m-\u001b[39mlen_axis:\n\u001b[1;32m-> 1557\u001b[0m     \u001b[38;5;28;01mraise\u001b[39;00m \u001b[38;5;167;01mIndexError\u001b[39;00m(\u001b[38;5;124m\"\u001b[39m\u001b[38;5;124msingle positional indexer is out-of-bounds\u001b[39m\u001b[38;5;124m\"\u001b[39m)\n",
      "\u001b[1;31mIndexError\u001b[0m: single positional indexer is out-of-bounds"
     ]
    },
    {
     "data": {
      "image/png": "[encoded data removed]",
      "text/plain": [
       "<Figure size 1800x1080 with 23 Axes>"
      ]
     },
     "metadata": {
      "needs_background": "light"
     },
     "output_type": "display_data"
    }
   ],
   "source": [
    "disp_multilabel_cm(gbc_pred2, 3, 4)\n"
   ]
  },
  {
   "cell_type": "code",
   "execution_count": 70,
   "metadata": {},
   "outputs": [
    {
     "ename": "IndexError",
     "evalue": "single positional indexer is out-of-bounds",
     "output_type": "error",
     "traceback": [
      "\u001b[1;31m---------------------------------------------------------------------------\u001b[0m",
      "\u001b[1;31mIndexError\u001b[0m                                Traceback (most recent call last)",
      "Input \u001b[1;32mIn [70]\u001b[0m, in \u001b[0;36m<cell line: 1>\u001b[1;34m()\u001b[0m\n\u001b[1;32m----> 1\u001b[0m \u001b[43mdisp_multilabel_cm\u001b[49m\u001b[43m(\u001b[49m\u001b[43mrfc_pred2\u001b[49m\u001b[43m,\u001b[49m\u001b[43m \u001b[49m\u001b[38;5;241;43m3\u001b[39;49m\u001b[43m,\u001b[49m\u001b[43m \u001b[49m\u001b[38;5;241;43m4\u001b[39;49m\u001b[43m)\u001b[49m\n",
      "Input \u001b[1;32mIn [68]\u001b[0m, in \u001b[0;36mdisp_multilabel_cm\u001b[1;34m(pred, x, y)\u001b[0m\n\u001b[0;32m      3\u001b[0m ax \u001b[38;5;241m=\u001b[39m ax\u001b[38;5;241m.\u001b[39mravel()\n\u001b[0;32m      4\u001b[0m \u001b[38;5;28;01mfor\u001b[39;00m i \u001b[38;5;129;01min\u001b[39;00m \u001b[38;5;28mrange\u001b[39m(x\u001b[38;5;241m*\u001b[39my):\n\u001b[1;32m----> 5\u001b[0m   disp \u001b[38;5;241m=\u001b[39m ConfusionMatrixDisplay(confusion_matrix(\u001b[43my_test\u001b[49m\u001b[38;5;241;43m.\u001b[39;49m\u001b[43miloc\u001b[49m\u001b[43m[\u001b[49m\u001b[43m:\u001b[49m\u001b[43m,\u001b[49m\u001b[43m \u001b[49m\u001b[43mi\u001b[49m\u001b[43m]\u001b[49m, pred[:, i]))\n\u001b[0;32m      6\u001b[0m   disp\u001b[38;5;241m.\u001b[39mplot(ax\u001b[38;5;241m=\u001b[39max[i])\n\u001b[0;32m      7\u001b[0m   disp\u001b[38;5;241m.\u001b[39max_\u001b[38;5;241m.\u001b[39mset_title(\u001b[38;5;124mf\u001b[39m\u001b[38;5;124m\"\u001b[39m\u001b[38;5;124mClass \u001b[39m\u001b[38;5;132;01m{\u001b[39;00mi\u001b[38;5;132;01m}\u001b[39;00m\u001b[38;5;124m\"\u001b[39m)\n",
      "File \u001b[1;32mc:\\Users\\limzh\\anaconda3\\lib\\site-packages\\pandas\\core\\indexing.py:1067\u001b[0m, in \u001b[0;36m_LocationIndexer.__getitem__\u001b[1;34m(self, key)\u001b[0m\n\u001b[0;32m   1065\u001b[0m     \u001b[38;5;28;01mif\u001b[39;00m \u001b[38;5;28mself\u001b[39m\u001b[38;5;241m.\u001b[39m_is_scalar_access(key):\n\u001b[0;32m   1066\u001b[0m         \u001b[38;5;28;01mreturn\u001b[39;00m \u001b[38;5;28mself\u001b[39m\u001b[38;5;241m.\u001b[39mobj\u001b[38;5;241m.\u001b[39m_get_value(\u001b[38;5;241m*\u001b[39mkey, takeable\u001b[38;5;241m=\u001b[39m\u001b[38;5;28mself\u001b[39m\u001b[38;5;241m.\u001b[39m_takeable)\n\u001b[1;32m-> 1067\u001b[0m     \u001b[38;5;28;01mreturn\u001b[39;00m \u001b[38;5;28;43mself\u001b[39;49m\u001b[38;5;241;43m.\u001b[39;49m\u001b[43m_getitem_tuple\u001b[49m\u001b[43m(\u001b[49m\u001b[43mkey\u001b[49m\u001b[43m)\u001b[49m\n\u001b[0;32m   1068\u001b[0m \u001b[38;5;28;01melse\u001b[39;00m:\n\u001b[0;32m   1069\u001b[0m     \u001b[38;5;66;03m# we by definition only have the 0th axis\u001b[39;00m\n\u001b[0;32m   1070\u001b[0m     axis \u001b[38;5;241m=\u001b[39m \u001b[38;5;28mself\u001b[39m\u001b[38;5;241m.\u001b[39maxis \u001b[38;5;129;01mor\u001b[39;00m \u001b[38;5;241m0\u001b[39m\n",
      "File \u001b[1;32mc:\\Users\\limzh\\anaconda3\\lib\\site-packages\\pandas\\core\\indexing.py:1563\u001b[0m, in \u001b[0;36m_iLocIndexer._getitem_tuple\u001b[1;34m(self, tup)\u001b[0m\n\u001b[0;32m   1561\u001b[0m \u001b[38;5;28;01mdef\u001b[39;00m \u001b[38;5;21m_getitem_tuple\u001b[39m(\u001b[38;5;28mself\u001b[39m, tup: \u001b[38;5;28mtuple\u001b[39m):\n\u001b[1;32m-> 1563\u001b[0m     tup \u001b[38;5;241m=\u001b[39m \u001b[38;5;28;43mself\u001b[39;49m\u001b[38;5;241;43m.\u001b[39;49m\u001b[43m_validate_tuple_indexer\u001b[49m\u001b[43m(\u001b[49m\u001b[43mtup\u001b[49m\u001b[43m)\u001b[49m\n\u001b[0;32m   1564\u001b[0m     \u001b[38;5;28;01mwith\u001b[39;00m suppress(IndexingError):\n\u001b[0;32m   1565\u001b[0m         \u001b[38;5;28;01mreturn\u001b[39;00m \u001b[38;5;28mself\u001b[39m\u001b[38;5;241m.\u001b[39m_getitem_lowerdim(tup)\n",
      "File \u001b[1;32mc:\\Users\\limzh\\anaconda3\\lib\\site-packages\\pandas\\core\\indexing.py:873\u001b[0m, in \u001b[0;36m_LocationIndexer._validate_tuple_indexer\u001b[1;34m(self, key)\u001b[0m\n\u001b[0;32m    871\u001b[0m \u001b[38;5;28;01mfor\u001b[39;00m i, k \u001b[38;5;129;01min\u001b[39;00m \u001b[38;5;28menumerate\u001b[39m(key):\n\u001b[0;32m    872\u001b[0m     \u001b[38;5;28;01mtry\u001b[39;00m:\n\u001b[1;32m--> 873\u001b[0m         \u001b[38;5;28;43mself\u001b[39;49m\u001b[38;5;241;43m.\u001b[39;49m\u001b[43m_validate_key\u001b[49m\u001b[43m(\u001b[49m\u001b[43mk\u001b[49m\u001b[43m,\u001b[49m\u001b[43m \u001b[49m\u001b[43mi\u001b[49m\u001b[43m)\u001b[49m\n\u001b[0;32m    874\u001b[0m     \u001b[38;5;28;01mexcept\u001b[39;00m \u001b[38;5;167;01mValueError\u001b[39;00m \u001b[38;5;28;01mas\u001b[39;00m err:\n\u001b[0;32m    875\u001b[0m         \u001b[38;5;28;01mraise\u001b[39;00m \u001b[38;5;167;01mValueError\u001b[39;00m(\n\u001b[0;32m    876\u001b[0m             \u001b[38;5;124m\"\u001b[39m\u001b[38;5;124mLocation based indexing can only have \u001b[39m\u001b[38;5;124m\"\u001b[39m\n\u001b[0;32m    877\u001b[0m             \u001b[38;5;124mf\u001b[39m\u001b[38;5;124m\"\u001b[39m\u001b[38;5;124m[\u001b[39m\u001b[38;5;132;01m{\u001b[39;00m\u001b[38;5;28mself\u001b[39m\u001b[38;5;241m.\u001b[39m_valid_types\u001b[38;5;132;01m}\u001b[39;00m\u001b[38;5;124m] types\u001b[39m\u001b[38;5;124m\"\u001b[39m\n\u001b[0;32m    878\u001b[0m         ) \u001b[38;5;28;01mfrom\u001b[39;00m \u001b[38;5;21;01merr\u001b[39;00m\n",
      "File \u001b[1;32mc:\\Users\\limzh\\anaconda3\\lib\\site-packages\\pandas\\core\\indexing.py:1466\u001b[0m, in \u001b[0;36m_iLocIndexer._validate_key\u001b[1;34m(self, key, axis)\u001b[0m\n\u001b[0;32m   1464\u001b[0m     \u001b[38;5;28;01mreturn\u001b[39;00m\n\u001b[0;32m   1465\u001b[0m \u001b[38;5;28;01melif\u001b[39;00m is_integer(key):\n\u001b[1;32m-> 1466\u001b[0m     \u001b[38;5;28;43mself\u001b[39;49m\u001b[38;5;241;43m.\u001b[39;49m\u001b[43m_validate_integer\u001b[49m\u001b[43m(\u001b[49m\u001b[43mkey\u001b[49m\u001b[43m,\u001b[49m\u001b[43m \u001b[49m\u001b[43maxis\u001b[49m\u001b[43m)\u001b[49m\n\u001b[0;32m   1467\u001b[0m \u001b[38;5;28;01melif\u001b[39;00m \u001b[38;5;28misinstance\u001b[39m(key, \u001b[38;5;28mtuple\u001b[39m):\n\u001b[0;32m   1468\u001b[0m     \u001b[38;5;66;03m# a tuple should already have been caught by this point\u001b[39;00m\n\u001b[0;32m   1469\u001b[0m     \u001b[38;5;66;03m# so don't treat a tuple as a valid indexer\u001b[39;00m\n\u001b[0;32m   1470\u001b[0m     \u001b[38;5;28;01mraise\u001b[39;00m IndexingError(\u001b[38;5;124m\"\u001b[39m\u001b[38;5;124mToo many indexers\u001b[39m\u001b[38;5;124m\"\u001b[39m)\n",
      "File \u001b[1;32mc:\\Users\\limzh\\anaconda3\\lib\\site-packages\\pandas\\core\\indexing.py:1557\u001b[0m, in \u001b[0;36m_iLocIndexer._validate_integer\u001b[1;34m(self, key, axis)\u001b[0m\n\u001b[0;32m   1555\u001b[0m len_axis \u001b[38;5;241m=\u001b[39m \u001b[38;5;28mlen\u001b[39m(\u001b[38;5;28mself\u001b[39m\u001b[38;5;241m.\u001b[39mobj\u001b[38;5;241m.\u001b[39m_get_axis(axis))\n\u001b[0;32m   1556\u001b[0m \u001b[38;5;28;01mif\u001b[39;00m key \u001b[38;5;241m>\u001b[39m\u001b[38;5;241m=\u001b[39m len_axis \u001b[38;5;129;01mor\u001b[39;00m key \u001b[38;5;241m<\u001b[39m \u001b[38;5;241m-\u001b[39mlen_axis:\n\u001b[1;32m-> 1557\u001b[0m     \u001b[38;5;28;01mraise\u001b[39;00m \u001b[38;5;167;01mIndexError\u001b[39;00m(\u001b[38;5;124m\"\u001b[39m\u001b[38;5;124msingle positional indexer is out-of-bounds\u001b[39m\u001b[38;5;124m\"\u001b[39m)\n",
      "\u001b[1;31mIndexError\u001b[0m: single positional indexer is out-of-bounds"
     ]
    },
    {
     "data": {
      "image/png": "[encoded data removed]",
      "text/plain": [
       "<Figure size 1800x1080 with 23 Axes>"
      ]
     },
     "metadata": {
      "needs_background": "light"
     },
     "output_type": "display_data"
    }
   ],
   "source": [
    "disp_multilabel_cm(rfc_pred2, 3, 4)"
   ]
  },
  {
   "cell_type": "code",
   "execution_count": 71,
   "metadata": {},
   "outputs": [
    {
     "ename": "IndexError",
     "evalue": "single positional indexer is out-of-bounds",
     "output_type": "error",
     "traceback": [
      "\u001b[1;31m---------------------------------------------------------------------------\u001b[0m",
      "\u001b[1;31mIndexError\u001b[0m                                Traceback (most recent call last)",
      "Input \u001b[1;32mIn [71]\u001b[0m, in \u001b[0;36m<cell line: 1>\u001b[1;34m()\u001b[0m\n\u001b[1;32m----> 1\u001b[0m \u001b[43mdisp_multilabel_cm\u001b[49m\u001b[43m(\u001b[49m\u001b[43mxgb_pred2\u001b[49m\u001b[43m,\u001b[49m\u001b[43m \u001b[49m\u001b[38;5;241;43m3\u001b[39;49m\u001b[43m,\u001b[49m\u001b[43m \u001b[49m\u001b[38;5;241;43m4\u001b[39;49m\u001b[43m)\u001b[49m\n",
      "Input \u001b[1;32mIn [68]\u001b[0m, in \u001b[0;36mdisp_multilabel_cm\u001b[1;34m(pred, x, y)\u001b[0m\n\u001b[0;32m      3\u001b[0m ax \u001b[38;5;241m=\u001b[39m ax\u001b[38;5;241m.\u001b[39mravel()\n\u001b[0;32m      4\u001b[0m \u001b[38;5;28;01mfor\u001b[39;00m i \u001b[38;5;129;01min\u001b[39;00m \u001b[38;5;28mrange\u001b[39m(x\u001b[38;5;241m*\u001b[39my):\n\u001b[1;32m----> 5\u001b[0m   disp \u001b[38;5;241m=\u001b[39m ConfusionMatrixDisplay(confusion_matrix(\u001b[43my_test\u001b[49m\u001b[38;5;241;43m.\u001b[39;49m\u001b[43miloc\u001b[49m\u001b[43m[\u001b[49m\u001b[43m:\u001b[49m\u001b[43m,\u001b[49m\u001b[43m \u001b[49m\u001b[43mi\u001b[49m\u001b[43m]\u001b[49m, pred[:, i]))\n\u001b[0;32m      6\u001b[0m   disp\u001b[38;5;241m.\u001b[39mplot(ax\u001b[38;5;241m=\u001b[39max[i])\n\u001b[0;32m      7\u001b[0m   disp\u001b[38;5;241m.\u001b[39max_\u001b[38;5;241m.\u001b[39mset_title(\u001b[38;5;124mf\u001b[39m\u001b[38;5;124m\"\u001b[39m\u001b[38;5;124mClass \u001b[39m\u001b[38;5;132;01m{\u001b[39;00mi\u001b[38;5;132;01m}\u001b[39;00m\u001b[38;5;124m\"\u001b[39m)\n",
      "File \u001b[1;32mc:\\Users\\limzh\\anaconda3\\lib\\site-packages\\pandas\\core\\indexing.py:1067\u001b[0m, in \u001b[0;36m_LocationIndexer.__getitem__\u001b[1;34m(self, key)\u001b[0m\n\u001b[0;32m   1065\u001b[0m     \u001b[38;5;28;01mif\u001b[39;00m \u001b[38;5;28mself\u001b[39m\u001b[38;5;241m.\u001b[39m_is_scalar_access(key):\n\u001b[0;32m   1066\u001b[0m         \u001b[38;5;28;01mreturn\u001b[39;00m \u001b[38;5;28mself\u001b[39m\u001b[38;5;241m.\u001b[39mobj\u001b[38;5;241m.\u001b[39m_get_value(\u001b[38;5;241m*\u001b[39mkey, takeable\u001b[38;5;241m=\u001b[39m\u001b[38;5;28mself\u001b[39m\u001b[38;5;241m.\u001b[39m_takeable)\n\u001b[1;32m-> 1067\u001b[0m     \u001b[38;5;28;01mreturn\u001b[39;00m \u001b[38;5;28;43mself\u001b[39;49m\u001b[38;5;241;43m.\u001b[39;49m\u001b[43m_getitem_tuple\u001b[49m\u001b[43m(\u001b[49m\u001b[43mkey\u001b[49m\u001b[43m)\u001b[49m\n\u001b[0;32m   1068\u001b[0m \u001b[38;5;28;01melse\u001b[39;00m:\n\u001b[0;32m   1069\u001b[0m     \u001b[38;5;66;03m# we by definition only have the 0th axis\u001b[39;00m\n\u001b[0;32m   1070\u001b[0m     axis \u001b[38;5;241m=\u001b[39m \u001b[38;5;28mself\u001b[39m\u001b[38;5;241m.\u001b[39maxis \u001b[38;5;129;01mor\u001b[39;00m \u001b[38;5;241m0\u001b[39m\n",
      "File \u001b[1;32mc:\\Users\\limzh\\anaconda3\\lib\\site-packages\\pandas\\core\\indexing.py:1563\u001b[0m, in \u001b[0;36m_iLocIndexer._getitem_tuple\u001b[1;34m(self, tup)\u001b[0m\n\u001b[0;32m   1561\u001b[0m \u001b[38;5;28;01mdef\u001b[39;00m \u001b[38;5;21m_getitem_tuple\u001b[39m(\u001b[38;5;28mself\u001b[39m, tup: \u001b[38;5;28mtuple\u001b[39m):\n\u001b[1;32m-> 1563\u001b[0m     tup \u001b[38;5;241m=\u001b[39m \u001b[38;5;28;43mself\u001b[39;49m\u001b[38;5;241;43m.\u001b[39;49m\u001b[43m_validate_tuple_indexer\u001b[49m\u001b[43m(\u001b[49m\u001b[43mtup\u001b[49m\u001b[43m)\u001b[49m\n\u001b[0;32m   1564\u001b[0m     \u001b[38;5;28;01mwith\u001b[39;00m suppress(IndexingError):\n\u001b[0;32m   1565\u001b[0m         \u001b[38;5;28;01mreturn\u001b[39;00m \u001b[38;5;28mself\u001b[39m\u001b[38;5;241m.\u001b[39m_getitem_lowerdim(tup)\n",
      "File \u001b[1;32mc:\\Users\\limzh\\anaconda3\\lib\\site-packages\\pandas\\core\\indexing.py:873\u001b[0m, in \u001b[0;36m_LocationIndexer._validate_tuple_indexer\u001b[1;34m(self, key)\u001b[0m\n\u001b[0;32m    871\u001b[0m \u001b[38;5;28;01mfor\u001b[39;00m i, k \u001b[38;5;129;01min\u001b[39;00m \u001b[38;5;28menumerate\u001b[39m(key):\n\u001b[0;32m    872\u001b[0m     \u001b[38;5;28;01mtry\u001b[39;00m:\n\u001b[1;32m--> 873\u001b[0m         \u001b[38;5;28;43mself\u001b[39;49m\u001b[38;5;241;43m.\u001b[39;49m\u001b[43m_validate_key\u001b[49m\u001b[43m(\u001b[49m\u001b[43mk\u001b[49m\u001b[43m,\u001b[49m\u001b[43m \u001b[49m\u001b[43mi\u001b[49m\u001b[43m)\u001b[49m\n\u001b[0;32m    874\u001b[0m     \u001b[38;5;28;01mexcept\u001b[39;00m \u001b[38;5;167;01mValueError\u001b[39;00m \u001b[38;5;28;01mas\u001b[39;00m err:\n\u001b[0;32m    875\u001b[0m         \u001b[38;5;28;01mraise\u001b[39;00m \u001b[38;5;167;01mValueError\u001b[39;00m(\n\u001b[0;32m    876\u001b[0m             \u001b[38;5;124m\"\u001b[39m\u001b[38;5;124mLocation based indexing can only have \u001b[39m\u001b[38;5;124m\"\u001b[39m\n\u001b[0;32m    877\u001b[0m             \u001b[38;5;124mf\u001b[39m\u001b[38;5;124m\"\u001b[39m\u001b[38;5;124m[\u001b[39m\u001b[38;5;132;01m{\u001b[39;00m\u001b[38;5;28mself\u001b[39m\u001b[38;5;241m.\u001b[39m_valid_types\u001b[38;5;132;01m}\u001b[39;00m\u001b[38;5;124m] types\u001b[39m\u001b[38;5;124m\"\u001b[39m\n\u001b[0;32m    878\u001b[0m         ) \u001b[38;5;28;01mfrom\u001b[39;00m \u001b[38;5;21;01merr\u001b[39;00m\n",
      "File \u001b[1;32mc:\\Users\\limzh\\anaconda3\\lib\\site-packages\\pandas\\core\\indexing.py:1466\u001b[0m, in \u001b[0;36m_iLocIndexer._validate_key\u001b[1;34m(self, key, axis)\u001b[0m\n\u001b[0;32m   1464\u001b[0m     \u001b[38;5;28;01mreturn\u001b[39;00m\n\u001b[0;32m   1465\u001b[0m \u001b[38;5;28;01melif\u001b[39;00m is_integer(key):\n\u001b[1;32m-> 1466\u001b[0m     \u001b[38;5;28;43mself\u001b[39;49m\u001b[38;5;241;43m.\u001b[39;49m\u001b[43m_validate_integer\u001b[49m\u001b[43m(\u001b[49m\u001b[43mkey\u001b[49m\u001b[43m,\u001b[49m\u001b[43m \u001b[49m\u001b[43maxis\u001b[49m\u001b[43m)\u001b[49m\n\u001b[0;32m   1467\u001b[0m \u001b[38;5;28;01melif\u001b[39;00m \u001b[38;5;28misinstance\u001b[39m(key, \u001b[38;5;28mtuple\u001b[39m):\n\u001b[0;32m   1468\u001b[0m     \u001b[38;5;66;03m# a tuple should already have been caught by this point\u001b[39;00m\n\u001b[0;32m   1469\u001b[0m     \u001b[38;5;66;03m# so don't treat a tuple as a valid indexer\u001b[39;00m\n\u001b[0;32m   1470\u001b[0m     \u001b[38;5;28;01mraise\u001b[39;00m IndexingError(\u001b[38;5;124m\"\u001b[39m\u001b[38;5;124mToo many indexers\u001b[39m\u001b[38;5;124m\"\u001b[39m)\n",
      "File \u001b[1;32mc:\\Users\\limzh\\anaconda3\\lib\\site-packages\\pandas\\core\\indexing.py:1557\u001b[0m, in \u001b[0;36m_iLocIndexer._validate_integer\u001b[1;34m(self, key, axis)\u001b[0m\n\u001b[0;32m   1555\u001b[0m len_axis \u001b[38;5;241m=\u001b[39m \u001b[38;5;28mlen\u001b[39m(\u001b[38;5;28mself\u001b[39m\u001b[38;5;241m.\u001b[39mobj\u001b[38;5;241m.\u001b[39m_get_axis(axis))\n\u001b[0;32m   1556\u001b[0m \u001b[38;5;28;01mif\u001b[39;00m key \u001b[38;5;241m>\u001b[39m\u001b[38;5;241m=\u001b[39m len_axis \u001b[38;5;129;01mor\u001b[39;00m key \u001b[38;5;241m<\u001b[39m \u001b[38;5;241m-\u001b[39mlen_axis:\n\u001b[1;32m-> 1557\u001b[0m     \u001b[38;5;28;01mraise\u001b[39;00m \u001b[38;5;167;01mIndexError\u001b[39;00m(\u001b[38;5;124m\"\u001b[39m\u001b[38;5;124msingle positional indexer is out-of-bounds\u001b[39m\u001b[38;5;124m\"\u001b[39m)\n",
      "\u001b[1;31mIndexError\u001b[0m: single positional indexer is out-of-bounds"
     ]
    },
    {
     "data": {
      "image/png": "[encoded data removed]",
      "text/plain": [
       "<Figure size 1800x1080 with 23 Axes>"
      ]
     },
     "metadata": {
      "needs_background": "light"
     },
     "output_type": "display_data"
    }
   ],
   "source": [
    "disp_multilabel_cm(xgb_pred2, 3, 4)"
   ]
  },
  {
   "cell_type": "markdown",
   "metadata": {},
   "source": [
    "## Export GBC2, RFC2, XGB2"
   ]
  },
  {
   "cell_type": "code",
   "execution_count": 72,
   "metadata": {},
   "outputs": [],
   "source": [
    "pickle.dump(gbc2, open(\"gbc2.sav\", \"wb\"))\n",
    "pickle.dump(rfc2, open(\"rfc2.sav\", \"wb\"))\n",
    "pickle.dump(xgb2, open(\"xgb2.sav\", \"wb\"))"
   ]
  },
  {
   "cell_type": "markdown",
   "metadata": {},
   "source": [
    "### Simulated Annealing"
   ]
  },
  {
   "cell_type": "code",
   "execution_count": 73,
   "metadata": {},
   "outputs": [],
   "source": [
    "# param_space_rfc = {\n",
    "#     'n_estimators': [80, 100, 150, 200, 250, 500, 1000, 1500, 2000, 2500, 3000],\n",
    "#     'criterion': ['gini', 'entropy', 'log_loss'],\n",
    "#     'max_depth': [3, 4, 5, 7, 10, 15, 20],\n",
    "#     'min_samples_split': [2, 3, 5, 7, 11, 17, 26, 40],\n",
    "#     'min_samples_leaf': [1, 2, 3, 4, 5, 7, 10, 15, 20],\n",
    "#     'max_features': ['sqrt', 'log2', None]\n",
    "# }\n",
    "   \n",
    "# # grid = GridSearchCV(RandomForestClassifier(), param_space_rfc, refit = True, verbose = 3,n_jobs=-1) "
   ]
  },
  {
   "cell_type": "code",
   "execution_count": 74,
   "metadata": {},
   "outputs": [],
   "source": [
    "# from sklearn.metrics import f1_score, precision_score, recall_score, roc_auc_score\n",
    "\n",
    "\n",
    "# train_scoring = {\n",
    "#     'accuracy': make_scorer(accuracy_score),\n",
    "#     'precision': make_scorer(precision_score, average='micro'),\n",
    "#     'recall': make_scorer(recall_score, average='micro'),\n",
    "#     'f1_score': make_scorer(f1_score, average='micro'),\n",
    "#     'roc_auc': make_scorer(roc_auc_score, average='micro'),\n",
    "#     'hamming_loss': make_scorer(hamming_loss, greater_is_better=False)\n",
    "# }"
   ]
  },
  {
   "cell_type": "code",
   "execution_count": 75,
   "metadata": {},
   "outputs": [],
   "source": [
    "# rfc_sa_best_params, rfc_sa_train_result, rfc_sa_history, rfc_sa_time = simulated_annealing(model=RandomForestClassifier(), \n",
    "#                                                                                             param_space=param_space_rfc, \n",
    "#                                                                                             max_iter=50, scoring=train_scoring, \n",
    "#                                                                                             X=X_train, y=y_train, \n",
    "#                                                                                             initial_temp=100, cooling_rate=0.90, cv_times=3, \n",
    "#                                                                                             model_type='rfc',\n",
    "#                                                                                             n_jobs=-1, seed=42)\n",
    "# print(\"Best Parameters:\", rfc_sa_best_params)\n",
    "# print(\"Best Accuracy:\", rfc_sa_train_result['mean_accuracy'])\n",
    "# print(\"Best Precision:\", rfc_sa_train_result['mean_precision'])\n",
    "# print(\"Best Recall:\", rfc_sa_train_result['mean_recall'])\n",
    "# print(\"Best F1 Score:\", rfc_sa_train_result['mean_f1'])\n",
    "# print(\"Best ROC AUC:\", rfc_sa_train_result['mean_roc_auc'])\n",
    "# print(f\"Total time taken: {rfc_sa_time} seconds\")\n",
    "\n",
    "# # plot_score_vs_iterations(rfc_sa_history)\n",
    "\n",
    "# # rfc_model_sa.set_params(**rfc_sa_best_params)\n",
    "# # rfc_model_sa.fit(X_train, y_train)\n",
    "\n",
    "# # y_pred = rfc_model_sa.predict(X_test)\n",
    "# # y_prob = rfc_model_sa.predict_proba(X_test)[:, 1]"
   ]
  },
  {
   "cell_type": "code",
   "execution_count": 76,
   "metadata": {},
   "outputs": [],
   "source": [
    "# %matplotlib inline\n",
    "# plot_score_vs_iterations(rfc_sa_history)"
   ]
  },
  {
   "cell_type": "markdown",
   "metadata": {},
   "source": [
    "### GridSearchCV"
   ]
  },
  {
   "cell_type": "code",
   "execution_count": 77,
   "metadata": {},
   "outputs": [],
   "source": [
    "# grids = []\n",
    "# for target in targets:\n",
    "#   y_this_class = y2_train[target]\n",
    "#   grids.append(grid.fit(X2_train, y_this_class))\n",
    "# predicts = []\n",
    "# for grid in grids:\n",
    "#   grid_pred = grid.predict(X2_test)\n",
    "#   predicts.append(grid_pred)\n",
    "# predicts = np.array(predicts)\n",
    "# predicts = predicts.flatten()\n",
    "# predicts = np.transpose(predicts)\n",
    "# predicts = np.reshape(predicts, (-1, 11))\n",
    "# # predicts = predicts.flatten()\n",
    "# # predicts = np.concatenate(predicts, axis = 0)\n",
    "# print(classification_report(y2_test, predicts))"
   ]
  },
  {
   "cell_type": "code",
   "execution_count": 83,
   "metadata": {},
   "outputs": [],
   "source": [
    "pd.set_option(\"display.max_rows\", None)\n",
    "pd.set_option(\"display.max_columns\", None)\n",
    "pd.set_option(\"display.width\", None)\n",
    "pd.set_option(\"display.max_colwidth\", None)\n",
    "np.set_printoptions(threshold=np.inf)"
   ]
  }
 ],
 "metadata": {
  "kernelspec": {
   "display_name": "Python 3 (ipykernel)",
   "language": "python",
   "name": "python3"
  },
  "language_info": {
   "codemirror_mode": {
    "name": "ipython",
    "version": 3
   },
   "file_extension": ".py",
   "mimetype": "text/x-python",
   "name": "python",
   "nbconvert_exporter": "python",
   "pygments_lexer": "ipython3",
   "version": "3.10.9"
  }
 },
 "nbformat": 4,
 "nbformat_minor": 2
}
